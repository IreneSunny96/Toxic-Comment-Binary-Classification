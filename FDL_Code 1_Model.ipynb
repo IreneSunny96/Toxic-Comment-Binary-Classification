{
 "cells": [
  {
   "cell_type": "markdown",
   "id": "9f25cd46",
   "metadata": {},
   "source": [
    "# **Kaggle Competition : Toxic comment classification**\n",
    "\n",
    "Team : Nishtha KHURANA, Irene SUNNY \n",
    "\n",
    "Problem Statement:\n",
    "We are given a dataset with comments from online platform. We have the challenge of classifying the comments as toxic(1) or non-toxic(0). \n",
    "\n",
    "\n",
    "\n"
   ]
  },
  {
   "cell_type": "markdown",
   "id": "4d8d75ea",
   "metadata": {},
   "source": [
    "**We are providing the code for the best 3 models which achieved high worst-group accuracy on the public dataset. We have ensembled the predictions based on weighted votes from the 3 models for the final prediction values.**"
   ]
  },
  {
   "cell_type": "markdown",
   "id": "354172dd",
   "metadata": {
    "id": "FdETGjrVx8uZ"
   },
   "source": [
    "Loading Data"
   ]
  },
  {
   "cell_type": "code",
   "execution_count": 1,
   "id": "b8de7835",
   "metadata": {
    "execution": {
     "iopub.execute_input": "2024-01-23T09:26:42.866331Z",
     "iopub.status.busy": "2024-01-23T09:26:42.865868Z",
     "iopub.status.idle": "2024-01-23T09:27:16.493026Z",
     "shell.execute_reply": "2024-01-23T09:27:16.491420Z",
     "shell.execute_reply.started": "2024-01-23T09:26:42.866251Z"
    },
    "id": "_BxSonJRrhGd",
    "outputId": "657c6893-abb8-4482-fb63-d0420e5db2a5"
   },
   "outputs": [],
   "source": [
    "# # install PyTorch\n",
    "# !pip install torch torchvision torchaud\n",
    "# !pip install torch\n",
    "# !pip install transformers"
   ]
  },
  {
   "cell_type": "code",
   "execution_count": 2,
   "id": "b525b319",
   "metadata": {
    "execution": {
     "iopub.execute_input": "2024-01-23T09:27:46.544839Z",
     "iopub.status.busy": "2024-01-23T09:27:46.544321Z",
     "iopub.status.idle": "2024-01-23T09:27:53.743133Z",
     "shell.execute_reply": "2024-01-23T09:27:53.741916Z",
     "shell.execute_reply.started": "2024-01-23T09:27:46.544801Z"
    }
   },
   "outputs": [],
   "source": [
    "import torch\n",
    "from torch.utils.data import TensorDataset, DataLoader\n",
    "from transformers import BertTokenizer, BertForSequenceClassification, AdamW, get_linear_schedule_with_warmup\n",
    "from torch.utils.data import DataLoader, RandomSampler, SequentialSampler, TensorDataset\n",
    "from tqdm.notebook import tqdm\n",
    "import torch\n",
    "import numpy as np\n",
    "import pandas as pd"
   ]
  },
  {
   "cell_type": "code",
   "execution_count": 4,
   "id": "aefbb262",
   "metadata": {
    "execution": {
     "iopub.execute_input": "2024-01-23T09:27:56.667064Z",
     "iopub.status.busy": "2024-01-23T09:27:56.666241Z",
     "iopub.status.idle": "2024-01-23T09:28:00.198645Z",
     "shell.execute_reply": "2024-01-23T09:28:00.197504Z",
     "shell.execute_reply.started": "2024-01-23T09:27:56.667015Z"
    }
   },
   "outputs": [
    {
     "name": "stdout",
     "output_type": "stream",
     "text": [
      "   index                                             string\n",
      "0      0                         even up here.......BLACKS!\n",
      "1      1  Blame men.  There's always an excuse to blame ...\n",
      "2      2  You have no business making any comments on th...\n",
      "3      3  \"Let's get the black folks and the white folks...\n",
      "4      4  I guess the issue is people not willing to put...\n",
      "   male  female  LGBTQ  christian  muslim  other_religions  black  white  \\\n",
      "0     0       0      0          0       0                0      1      0   \n",
      "1     1       1      0          0       0                0      0      0   \n",
      "2     0       0      0          0       0                0      0      0   \n",
      "3     0       0      0          0       0                0      1      1   \n",
      "4     0       0      0          0       0                0      0      0   \n",
      "\n",
      "   identity_any  severe_toxicity  obscene  threat  insult  identity_attack  \\\n",
      "0             1                0        0       0       0                1   \n",
      "1             1                0        0       0       0                1   \n",
      "2             0                0        0       0       1                0   \n",
      "3             1                0        0       0       0                1   \n",
      "4             0                0        0       0       1                0   \n",
      "\n",
      "   sexual_explicit  y  from_source_domain  \n",
      "0                0  1                   1  \n",
      "1                0  1                   1  \n",
      "2                0  1                   1  \n",
      "3                0  1                   1  \n",
      "4                0  1                   1  \n"
     ]
    }
   ],
   "source": [
    "# Assuming the files are in the \"input/dl-kaggle\" folder\n",
    "train_x = pd.read_csv('/kaggle/input/dl-kaggle/train_x.csv')\n",
    "train_y = pd.read_csv('/kaggle/input/dl-kaggle/train_y.csv')\n",
    "\n",
    "# Check the first few rows of your training data\n",
    "print(train_x.head())\n",
    "print(train_y.head())"
   ]
  },
  {
   "cell_type": "code",
   "execution_count": 5,
   "id": "1b56d0ce",
   "metadata": {
    "execution": {
     "iopub.execute_input": "2024-01-23T09:40:47.731829Z",
     "iopub.status.busy": "2024-01-23T09:40:47.731359Z",
     "iopub.status.idle": "2024-01-23T09:40:48.351263Z",
     "shell.execute_reply": "2024-01-23T09:40:48.349524Z",
     "shell.execute_reply.started": "2024-01-23T09:40:47.731795Z"
    },
    "id": "WjlKuhG4w6O8",
    "outputId": "cdb72392-5995-44a9-97bf-d47a527be699"
   },
   "outputs": [
    {
     "name": "stdout",
     "output_type": "stream",
     "text": [
      "   index                                             string\n",
      "0      0  Why is this black racist crap still on the G&M...\n",
      "1      1  And the woman exposing herself saying grab thi...\n",
      "2      2  You're a troll.\\n\\nYou're not 907AK.\\n\\nYou're...\n",
      "3      3                        You sound like a terrorist.\n",
      "4      4  When it all goes to crap, better to punch up i...\n",
      "   male  female  LGBTQ  christian  muslim  other_religions  black  white  \\\n",
      "0     0       0      0          0       0                0      1      1   \n",
      "1     0       1      0          0       0                0      0      0   \n",
      "2     0       0      0          0       0                0      0      0   \n",
      "3     0       0      0          0       0                0      0      0   \n",
      "4     0       0      0          0       0                0      0      0   \n",
      "\n",
      "   identity_any  severe_toxicity  obscene  threat  insult  identity_attack  \\\n",
      "0             1                0        0       0       1                1   \n",
      "1             1                0        1       0       0                0   \n",
      "2             0                0        0       0       1                0   \n",
      "3             0                0        0       0       1                0   \n",
      "4             0                0        1       0       0                0   \n",
      "\n",
      "   sexual_explicit  y  from_source_domain  \n",
      "0                0  1                   0  \n",
      "1                1  1                   0  \n",
      "2                0  1                   0  \n",
      "3                0  1                   0  \n",
      "4                0  1                   0  \n"
     ]
    }
   ],
   "source": [
    "# Load your validation and test sets if you have them ready.\n",
    "val_x = pd.read_csv('/kaggle/input/dl-kaggle/val_x.csv')\n",
    "val_y = pd.read_csv('/kaggle/input/dl-kaggle/val_y.csv')\n",
    "\n",
    "# Check the first few rows of training data\n",
    "print(val_x.head())\n",
    "print(val_y.head())"
   ]
  },
  {
   "cell_type": "code",
   "execution_count": 6,
   "id": "d6c1c193",
   "metadata": {
    "execution": {
     "iopub.execute_input": "2024-01-23T09:40:52.273517Z",
     "iopub.status.busy": "2024-01-23T09:40:52.272915Z",
     "iopub.status.idle": "2024-01-23T09:40:53.882874Z",
     "shell.execute_reply": "2024-01-23T09:40:53.881338Z",
     "shell.execute_reply.started": "2024-01-23T09:40:52.273460Z"
    }
   },
   "outputs": [
    {
     "name": "stdout",
     "output_type": "stream",
     "text": [
      "   index                                             string\n",
      "0      0  OH yes - Were those evil Christian Missionarie...\n",
      "1      1  He's considered a good candidate for a cyber-s...\n",
      "2      2  Lela, you admit no records exist to support yo...\n",
      "3      3  I'll take the iffy libertarian over the guy wh...\n",
      "4      4       Shouldn't your handle be Republic of Uranus?\n"
     ]
    }
   ],
   "source": [
    "# Load Test Data\n",
    "test_x = pd.read_csv('/kaggle/input/dl-kaggle/test_x.csv')  # For the test set, no labels.\n",
    "\n",
    " # Check the first few rows of your training data\n",
    "print(test_x.head())"
   ]
  },
  {
   "cell_type": "markdown",
   "id": "541cbf73",
   "metadata": {
    "id": "TM78uSWHyAJQ"
   },
   "source": [
    "**Explore and Verify Data**"
   ]
  },
  {
   "cell_type": "code",
   "execution_count": 7,
   "id": "13caf010",
   "metadata": {
    "execution": {
     "iopub.execute_input": "2024-01-23T09:40:55.827803Z",
     "iopub.status.busy": "2024-01-23T09:40:55.827399Z",
     "iopub.status.idle": "2024-01-23T09:40:55.891471Z",
     "shell.execute_reply": "2024-01-23T09:40:55.889978Z",
     "shell.execute_reply.started": "2024-01-23T09:40:55.827772Z"
    },
    "id": "RA4wp17-yDW0",
    "outputId": "8ac05d1f-29f2-4ad3-9d6f-640cfd6ba0a5"
   },
   "outputs": [
    {
     "name": "stdout",
     "output_type": "stream",
     "text": [
      "Training data:  (269038, 2)\n",
      "Training labels:  (269038, 17)\n",
      "index     0\n",
      "string    1\n",
      "dtype: int64\n",
      "male                  0\n",
      "female                0\n",
      "LGBTQ                 0\n",
      "christian             0\n",
      "muslim                0\n",
      "other_religions       0\n",
      "black                 0\n",
      "white                 0\n",
      "identity_any          0\n",
      "severe_toxicity       0\n",
      "obscene               0\n",
      "threat                0\n",
      "insult                0\n",
      "identity_attack       0\n",
      "sexual_explicit       0\n",
      "y                     0\n",
      "from_source_domain    0\n",
      "dtype: int64\n"
     ]
    }
   ],
   "source": [
    "# Display the first few entries of the training data and labels to understand their structure\n",
    "\n",
    "# Check the size of the datasets\n",
    "print(\"Training data: \", train_x.shape)\n",
    "print(\"Training labels: \", train_y.shape)\n",
    "\n",
    "# Check for any missing values in the datasets\n",
    "print(train_x.isnull().sum())\n",
    "print(train_y.isnull().sum())"
   ]
  },
  {
   "cell_type": "markdown",
   "id": "d9201bf1",
   "metadata": {},
   "source": [
    "**Replace Null with Empty String**"
   ]
  },
  {
   "cell_type": "code",
   "execution_count": 9,
   "id": "261845e8",
   "metadata": {
    "execution": {
     "iopub.execute_input": "2024-01-23T09:41:02.561847Z",
     "iopub.status.busy": "2024-01-23T09:41:02.561366Z",
     "iopub.status.idle": "2024-01-23T09:41:02.664377Z",
     "shell.execute_reply": "2024-01-23T09:41:02.662887Z",
     "shell.execute_reply.started": "2024-01-23T09:41:02.561812Z"
    }
   },
   "outputs": [
    {
     "name": "stdout",
     "output_type": "stream",
     "text": [
      "<class 'str'>\n",
      "0\n",
      "0\n",
      "0\n"
     ]
    }
   ],
   "source": [
    "print(type(train_x['string'].iloc[0]))\n",
    "print(train_x['string'].isnull().sum())\n",
    "print(val_x['string'].isnull().sum())\n",
    "print(test_x['string'].isnull().sum())"
   ]
  },
  {
   "cell_type": "code",
   "execution_count": null,
   "id": "0db9aa12",
   "metadata": {},
   "outputs": [],
   "source": [
    "# Replace NaN values with an empty string\n",
    "train_x['string'].fillna('', inplace=True)\n",
    "# Replace NaN values with an empty string\n",
    "val_x['string'].fillna('', inplace=True)\n",
    "# Replace NaN values with an empty string\n",
    "test_x['string'].fillna('', inplace=True)"
   ]
  },
  {
   "cell_type": "markdown",
   "id": "b5244f04",
   "metadata": {},
   "source": [
    "Class Distribution - Train Y"
   ]
  },
  {
   "cell_type": "code",
   "execution_count": 10,
   "id": "f5cca59d",
   "metadata": {
    "execution": {
     "iopub.execute_input": "2024-01-23T09:41:23.807402Z",
     "iopub.status.busy": "2024-01-23T09:41:23.806798Z",
     "iopub.status.idle": "2024-01-23T09:41:24.180528Z",
     "shell.execute_reply": "2024-01-23T09:41:24.179349Z",
     "shell.execute_reply.started": "2024-01-23T09:41:23.807360Z"
    }
   },
   "outputs": [
    {
     "data": {
      "image/png": "[encoded data removed]",
      "text/plain": [
       "<Figure size 600x400 with 1 Axes>"
      ]
     },
     "metadata": {},
     "output_type": "display_data"
    }
   ],
   "source": [
    "import pandas as pd\n",
    "import matplotlib.pyplot as plt\n",
    "\n",
    "# Assuming train_y is your DataFrame with the 'y' column for toxicity labels\n",
    "# and train_X is your DataFrame with the identity columns\n",
    "\n",
    "# Plot the distribution of the 'toxic' and 'non-toxic' classes\n",
    "plt.figure(figsize=(6, 4))\n",
    "train_y['y'].value_counts().plot(kind='bar')\n",
    "plt.title('Distribution of Toxic and Non-Toxic Comments')\n",
    "plt.xlabel('Class')\n",
    "plt.ylabel('Frequency')\n",
    "plt.xticks([0, 1], ['Non-Toxic (0)', 'Toxic (1)'], rotation=0)\n",
    "plt.show()"
   ]
  },
  {
   "cell_type": "markdown",
   "id": "23128c52",
   "metadata": {},
   "source": [
    "Identity Distribution"
   ]
  },
  {
   "cell_type": "code",
   "execution_count": 12,
   "id": "5beeee13",
   "metadata": {
    "execution": {
     "iopub.execute_input": "2024-01-23T09:43:50.179337Z",
     "iopub.status.busy": "2024-01-23T09:43:50.178858Z",
     "iopub.status.idle": "2024-01-23T09:43:50.569889Z",
     "shell.execute_reply": "2024-01-23T09:43:50.568596Z",
     "shell.execute_reply.started": "2024-01-23T09:43:50.179303Z"
    }
   },
   "outputs": [
    {
     "data": {
      "image/png": "[encoded data removed]",
      "text/plain": [
       "<Figure size 1200x600 with 1 Axes>"
      ]
     },
     "metadata": {},
     "output_type": "display_data"
    }
   ],
   "source": [
    "# Plot the distribution for each identity\n",
    "identities = ['male', 'female', 'LGBTQ', 'christian', 'muslim', 'other_religions', 'black', 'white']\n",
    "\n",
    "# Initialize a dictionary to hold the count data\n",
    "identity_counts = {}\n",
    "\n",
    "# Loop through each identity and count the presence and absence\n",
    "for identity in identities:\n",
    "    identity_present = train_y[identity].sum()\n",
    "    identity_absent = (train_y[identity] == 0).sum()\n",
    "    identity_counts[identity] = [identity_present, identity_absent]\n",
    "\n",
    "# Convert the dictionary to a DataFrame for easier plotting\n",
    "identity_counts_df = pd.DataFrame(identity_counts, index=['Present (1)', 'Not Present (0)'])\n",
    "\n",
    "# Plotting the identity counts\n",
    "identity_counts_df.T.plot(kind='bar', stacked=True, figsize=(12, 6))\n",
    "plt.title('Distribution of Identity Mentions')\n",
    "plt.xlabel('Identity')\n",
    "plt.ylabel('Frequency')\n",
    "plt.xticks(rotation=45)\n",
    "plt.legend(title='Presence')\n",
    "plt.tight_layout()  # Adjust the layout to make room for the x-labels\n",
    "plt.show()"
   ]
  },
  {
   "cell_type": "code",
   "execution_count": 15,
   "id": "ee2b9518",
   "metadata": {
    "execution": {
     "iopub.execute_input": "2024-01-23T09:49:35.295086Z",
     "iopub.status.busy": "2024-01-23T09:49:35.294606Z",
     "iopub.status.idle": "2024-01-23T09:49:38.330850Z",
     "shell.execute_reply": "2024-01-23T09:49:38.329524Z",
     "shell.execute_reply.started": "2024-01-23T09:49:35.295050Z"
    }
   },
   "outputs": [
    {
     "data": {
      "text/html": [
       "        <script type=\"text/javascript\">\n",
       "        window.PlotlyConfig = {MathJaxConfig: 'local'};\n",
       "        if (window.MathJax && window.MathJax.Hub && window.MathJax.Hub.Config) {window.MathJax.Hub.Config({SVG: {font: \"STIX-Web\"}});}\n",
       "        if (typeof require !== 'undefined') {\n",
       "        require.undef(\"plotly\");\n",
       "        requirejs.config({\n",
       "            paths: {\n",
       "                'plotly': ['https://cdn.plot.ly/plotly-2.25.2.min']\n",
       "            }\n",
       "        });\n",
       "        require(['plotly'], function(Plotly) {\n",
       "            window._Plotly = Plotly;\n",
       "        });\n",
       "        }\n",
       "        </script>\n",
       "        "
      ]
     },
     "metadata": {},
     "output_type": "display_data"
    },
    {
     "data": {
      "text/html": [
       "<div>                            <div id=\"2676da06-973e-41dc-ac55-c8d97ac863d9\" class=\"plotly-graph-div\" style=\"height:525px; width:100%;\"></div>            <script type=\"text/javascript\">                require([\"plotly\"], function(Plotly) {                    window.PLOTLYENV=window.PLOTLYENV || {};                                    if (document.getElementById(\"2676da06-973e-41dc-ac55-c8d97ac863d9\")) {                    Plotly.newPlot(                        \"2676da06-973e-41dc-ac55-c8d97ac863d9\",                        [{\"alignmentgroup\":\"True\",\"hovertemplate\":\"Identity=%{x}\\u003cbr\\u003eNumber of Comments=%{y}\\u003cextra\\u003e\\u003c\\u002fextra\\u003e\",\"legendgroup\":\"\",\"marker\":{\"color\":\"#636efa\",\"pattern\":{\"shape\":\"\"}},\"name\":\"\",\"offsetgroup\":\"\",\"orientation\":\"v\",\"showlegend\":false,\"textposition\":\"auto\",\"x\":[\"male\",\"female\",\"LGBTQ\",\"christian\",\"muslim\",\"other_religions\",\"black\",\"white\"],\"xaxis\":\"x\",\"y\":[29810,36244,8420,26738,13954,6544,9896,16698],\"yaxis\":\"y\",\"type\":\"bar\",\"hoverinfo\":\"y+name\"}],                        {\"template\":{\"data\":{\"histogram2dcontour\":[{\"type\":\"histogram2dcontour\",\"colorbar\":{\"outlinewidth\":0,\"ticks\":\"\"},\"colorscale\":[[0.0,\"#0d0887\"],[0.1111111111111111,\"#46039f\"],[0.2222222222222222,\"#7201a8\"],[0.3333333333333333,\"#9c179e\"],[0.4444444444444444,\"#bd3786\"],[0.5555555555555556,\"#d8576b\"],[0.6666666666666666,\"#ed7953\"],[0.7777777777777778,\"#fb9f3a\"],[0.8888888888888888,\"#fdca26\"],[1.0,\"#f0f921\"]]}],\"choropleth\":[{\"type\":\"choropleth\",\"colorbar\":{\"outlinewidth\":0,\"ticks\":\"\"}}],\"histogram2d\":[{\"type\":\"histogram2d\",\"colorbar\":{\"outlinewidth\":0,\"ticks\":\"\"},\"colorscale\":[[0.0,\"#0d0887\"],[0.1111111111111111,\"#46039f\"],[0.2222222222222222,\"#7201a8\"],[0.3333333333333333,\"#9c179e\"],[0.4444444444444444,\"#bd3786\"],[0.5555555555555556,\"#d8576b\"],[0.6666666666666666,\"#ed7953\"],[0.7777777777777778,\"#fb9f3a\"],[0.8888888888888888,\"#fdca26\"],[1.0,\"#f0f921\"]]}],\"heatmap\":[{\"type\":\"heatmap\",\"colorbar\":{\"outlinewidth\":0,\"ticks\":\"\"},\"colorscale\":[[0.0,\"#0d0887\"],[0.1111111111111111,\"#46039f\"],[0.2222222222222222,\"#7201a8\"],[0.3333333333333333,\"#9c179e\"],[0.4444444444444444,\"#bd3786\"],[0.5555555555555556,\"#d8576b\"],[0.6666666666666666,\"#ed7953\"],[0.7777777777777778,\"#fb9f3a\"],[0.8888888888888888,\"#fdca26\"],[1.0,\"#f0f921\"]]}],\"heatmapgl\":[{\"type\":\"heatmapgl\",\"colorbar\":{\"outlinewidth\":0,\"ticks\":\"\"},\"colorscale\":[[0.0,\"#0d0887\"],[0.1111111111111111,\"#46039f\"],[0.2222222222222222,\"#7201a8\"],[0.3333333333333333,\"#9c179e\"],[0.4444444444444444,\"#bd3786\"],[0.5555555555555556,\"#d8576b\"],[0.6666666666666666,\"#ed7953\"],[0.7777777777777778,\"#fb9f3a\"],[0.8888888888888888,\"#fdca26\"],[1.0,\"#f0f921\"]]}],\"contourcarpet\":[{\"type\":\"contourcarpet\",\"colorbar\":{\"outlinewidth\":0,\"ticks\":\"\"}}],\"contour\":[{\"type\":\"contour\",\"colorbar\":{\"outlinewidth\":0,\"ticks\":\"\"},\"colorscale\":[[0.0,\"#0d0887\"],[0.1111111111111111,\"#46039f\"],[0.2222222222222222,\"#7201a8\"],[0.3333333333333333,\"#9c179e\"],[0.4444444444444444,\"#bd3786\"],[0.5555555555555556,\"#d8576b\"],[0.6666666666666666,\"#ed7953\"],[0.7777777777777778,\"#fb9f3a\"],[0.8888888888888888,\"#fdca26\"],[1.0,\"#f0f921\"]]}],\"surface\":[{\"type\":\"surface\",\"colorbar\":{\"outlinewidth\":0,\"ticks\":\"\"},\"colorscale\":[[0.0,\"#0d0887\"],[0.1111111111111111,\"#46039f\"],[0.2222222222222222,\"#7201a8\"],[0.3333333333333333,\"#9c179e\"],[0.4444444444444444,\"#bd3786\"],[0.5555555555555556,\"#d8576b\"],[0.6666666666666666,\"#ed7953\"],[0.7777777777777778,\"#fb9f3a\"],[0.8888888888888888,\"#fdca26\"],[1.0,\"#f0f921\"]]}],\"mesh3d\":[{\"type\":\"mesh3d\",\"colorbar\":{\"outlinewidth\":0,\"ticks\":\"\"}}],\"scatter\":[{\"fillpattern\":{\"fillmode\":\"overlay\",\"size\":10,\"solidity\":0.2},\"type\":\"scatter\"}],\"parcoords\":[{\"type\":\"parcoords\",\"line\":{\"colorbar\":{\"outlinewidth\":0,\"ticks\":\"\"}}}],\"scatterpolargl\":[{\"type\":\"scatterpolargl\",\"marker\":{\"colorbar\":{\"outlinewidth\":0,\"ticks\":\"\"}}}],\"bar\":[{\"error_x\":{\"color\":\"#2a3f5f\"},\"error_y\":{\"color\":\"#2a3f5f\"},\"marker\":{\"line\":{\"color\":\"#E5ECF6\",\"width\":0.5},\"pattern\":{\"fillmode\":\"overlay\",\"size\":10,\"solidity\":0.2}},\"type\":\"bar\"}],\"scattergeo\":[{\"type\":\"scattergeo\",\"marker\":{\"colorbar\":{\"outlinewidth\":0,\"ticks\":\"\"}}}],\"scatterpolar\":[{\"type\":\"scatterpolar\",\"marker\":{\"colorbar\":{\"outlinewidth\":0,\"ticks\":\"\"}}}],\"histogram\":[{\"marker\":{\"pattern\":{\"fillmode\":\"overlay\",\"size\":10,\"solidity\":0.2}},\"type\":\"histogram\"}],\"scattergl\":[{\"type\":\"scattergl\",\"marker\":{\"colorbar\":{\"outlinewidth\":0,\"ticks\":\"\"}}}],\"scatter3d\":[{\"type\":\"scatter3d\",\"line\":{\"colorbar\":{\"outlinewidth\":0,\"ticks\":\"\"}},\"marker\":{\"colorbar\":{\"outlinewidth\":0,\"ticks\":\"\"}}}],\"scattermapbox\":[{\"type\":\"scattermapbox\",\"marker\":{\"colorbar\":{\"outlinewidth\":0,\"ticks\":\"\"}}}],\"scatterternary\":[{\"type\":\"scatterternary\",\"marker\":{\"colorbar\":{\"outlinewidth\":0,\"ticks\":\"\"}}}],\"scattercarpet\":[{\"type\":\"scattercarpet\",\"marker\":{\"colorbar\":{\"outlinewidth\":0,\"ticks\":\"\"}}}],\"carpet\":[{\"aaxis\":{\"endlinecolor\":\"#2a3f5f\",\"gridcolor\":\"white\",\"linecolor\":\"white\",\"minorgridcolor\":\"white\",\"startlinecolor\":\"#2a3f5f\"},\"baxis\":{\"endlinecolor\":\"#2a3f5f\",\"gridcolor\":\"white\",\"linecolor\":\"white\",\"minorgridcolor\":\"white\",\"startlinecolor\":\"#2a3f5f\"},\"type\":\"carpet\"}],\"table\":[{\"cells\":{\"fill\":{\"color\":\"#EBF0F8\"},\"line\":{\"color\":\"white\"}},\"header\":{\"fill\":{\"color\":\"#C8D4E3\"},\"line\":{\"color\":\"white\"}},\"type\":\"table\"}],\"barpolar\":[{\"marker\":{\"line\":{\"color\":\"#E5ECF6\",\"width\":0.5},\"pattern\":{\"fillmode\":\"overlay\",\"size\":10,\"solidity\":0.2}},\"type\":\"barpolar\"}],\"pie\":[{\"automargin\":true,\"type\":\"pie\"}]},\"layout\":{\"autotypenumbers\":\"strict\",\"colorway\":[\"#636efa\",\"#EF553B\",\"#00cc96\",\"#ab63fa\",\"#FFA15A\",\"#19d3f3\",\"#FF6692\",\"#B6E880\",\"#FF97FF\",\"#FECB52\"],\"font\":{\"color\":\"#2a3f5f\"},\"hovermode\":\"closest\",\"hoverlabel\":{\"align\":\"left\"},\"paper_bgcolor\":\"white\",\"plot_bgcolor\":\"#E5ECF6\",\"polar\":{\"bgcolor\":\"#E5ECF6\",\"angularaxis\":{\"gridcolor\":\"white\",\"linecolor\":\"white\",\"ticks\":\"\"},\"radialaxis\":{\"gridcolor\":\"white\",\"linecolor\":\"white\",\"ticks\":\"\"}},\"ternary\":{\"bgcolor\":\"#E5ECF6\",\"aaxis\":{\"gridcolor\":\"white\",\"linecolor\":\"white\",\"ticks\":\"\"},\"baxis\":{\"gridcolor\":\"white\",\"linecolor\":\"white\",\"ticks\":\"\"},\"caxis\":{\"gridcolor\":\"white\",\"linecolor\":\"white\",\"ticks\":\"\"}},\"coloraxis\":{\"colorbar\":{\"outlinewidth\":0,\"ticks\":\"\"}},\"colorscale\":{\"sequential\":[[0.0,\"#0d0887\"],[0.1111111111111111,\"#46039f\"],[0.2222222222222222,\"#7201a8\"],[0.3333333333333333,\"#9c179e\"],[0.4444444444444444,\"#bd3786\"],[0.5555555555555556,\"#d8576b\"],[0.6666666666666666,\"#ed7953\"],[0.7777777777777778,\"#fb9f3a\"],[0.8888888888888888,\"#fdca26\"],[1.0,\"#f0f921\"]],\"sequentialminus\":[[0.0,\"#0d0887\"],[0.1111111111111111,\"#46039f\"],[0.2222222222222222,\"#7201a8\"],[0.3333333333333333,\"#9c179e\"],[0.4444444444444444,\"#bd3786\"],[0.5555555555555556,\"#d8576b\"],[0.6666666666666666,\"#ed7953\"],[0.7777777777777778,\"#fb9f3a\"],[0.8888888888888888,\"#fdca26\"],[1.0,\"#f0f921\"]],\"diverging\":[[0,\"#8e0152\"],[0.1,\"#c51b7d\"],[0.2,\"#de77ae\"],[0.3,\"#f1b6da\"],[0.4,\"#fde0ef\"],[0.5,\"#f7f7f7\"],[0.6,\"#e6f5d0\"],[0.7,\"#b8e186\"],[0.8,\"#7fbc41\"],[0.9,\"#4d9221\"],[1,\"#276419\"]]},\"xaxis\":{\"gridcolor\":\"white\",\"linecolor\":\"white\",\"ticks\":\"\",\"title\":{\"standoff\":15},\"zerolinecolor\":\"white\",\"automargin\":true,\"zerolinewidth\":2},\"yaxis\":{\"gridcolor\":\"white\",\"linecolor\":\"white\",\"ticks\":\"\",\"title\":{\"standoff\":15},\"zerolinecolor\":\"white\",\"automargin\":true,\"zerolinewidth\":2},\"scene\":{\"xaxis\":{\"backgroundcolor\":\"#E5ECF6\",\"gridcolor\":\"white\",\"linecolor\":\"white\",\"showbackground\":true,\"ticks\":\"\",\"zerolinecolor\":\"white\",\"gridwidth\":2},\"yaxis\":{\"backgroundcolor\":\"#E5ECF6\",\"gridcolor\":\"white\",\"linecolor\":\"white\",\"showbackground\":true,\"ticks\":\"\",\"zerolinecolor\":\"white\",\"gridwidth\":2},\"zaxis\":{\"backgroundcolor\":\"#E5ECF6\",\"gridcolor\":\"white\",\"linecolor\":\"white\",\"showbackground\":true,\"ticks\":\"\",\"zerolinecolor\":\"white\",\"gridwidth\":2}},\"shapedefaults\":{\"line\":{\"color\":\"#2a3f5f\"}},\"annotationdefaults\":{\"arrowcolor\":\"#2a3f5f\",\"arrowhead\":0,\"arrowwidth\":1},\"geo\":{\"bgcolor\":\"white\",\"landcolor\":\"#E5ECF6\",\"subunitcolor\":\"white\",\"showland\":true,\"showlakes\":true,\"lakecolor\":\"white\"},\"title\":{\"x\":0.05},\"mapbox\":{\"style\":\"light\"}}},\"xaxis\":{\"anchor\":\"y\",\"domain\":[0.0,1.0],\"title\":{\"text\":\"Identity\"}},\"yaxis\":{\"anchor\":\"x\",\"domain\":[0.0,1.0],\"title\":{\"text\":\"Number of Comments\"}},\"legend\":{\"tracegroupgap\":0},\"title\":{\"text\":\"Number of Comments with Identity Present\"},\"barmode\":\"relative\"},                        {\"responsive\": true}                    ).then(function(){\n",
       "                            \n",
       "var gd = document.getElementById('2676da06-973e-41dc-ac55-c8d97ac863d9');\n",
       "var x = new MutationObserver(function (mutations, observer) {{\n",
       "        var display = window.getComputedStyle(gd).display;\n",
       "        if (!display || display === 'none') {{\n",
       "            console.log([gd, 'removed!']);\n",
       "            Plotly.purge(gd);\n",
       "            observer.disconnect();\n",
       "        }}\n",
       "}});\n",
       "\n",
       "// Listen for the removal of the full notebook cells\n",
       "var notebookContainer = gd.closest('#notebook-container');\n",
       "if (notebookContainer) {{\n",
       "    x.observe(notebookContainer, {childList: true});\n",
       "}}\n",
       "\n",
       "// Listen for the clearing of the current output cell\n",
       "var outputEl = gd.closest('.output');\n",
       "if (outputEl) {{\n",
       "    x.observe(outputEl, {childList: true});\n",
       "}}\n",
       "\n",
       "                        })                };                });            </script>        </div>"
      ]
     },
     "metadata": {},
     "output_type": "display_data"
    }
   ],
   "source": [
    "import plotly.express as px\n",
    "\n",
    "# Assuming `train_X` is your actual DataFrame and you've calculated `identity_present_counts` as before:\n",
    "identity_present_counts = train_y[identities].sum()\n",
    "\n",
    "# Create interactive bar plot using Plotly\n",
    "fig = px.bar(x=identity_present_counts.index, y=identity_present_counts.values, \n",
    "             labels={'x': 'Identity', 'y': 'Number of Comments'},\n",
    "             title='Number of Comments with Identity Present')\n",
    "\n",
    "# Customize hover data\n",
    "fig.update_traces(hoverinfo='y+name')\n",
    "\n",
    "fig.show()\n"
   ]
  },
  {
   "cell_type": "markdown",
   "id": "fcad2b46",
   "metadata": {
    "id": "HQcK7VrWWWAE"
   },
   "source": [
    "### BERT Baseline model"
   ]
  },
  {
   "cell_type": "code",
   "execution_count": null,
   "id": "611960be",
   "metadata": {
    "execution": {
     "iopub.execute_input": "2024-01-17T20:57:34.255289Z",
     "iopub.status.busy": "2024-01-17T20:57:34.254491Z",
     "iopub.status.idle": "2024-01-17T20:57:35.320872Z",
     "shell.execute_reply": "2024-01-17T20:57:35.319968Z",
     "shell.execute_reply.started": "2024-01-17T20:57:34.255259Z"
    },
    "id": "m6TS49PUWbaO"
   },
   "outputs": [],
   "source": [
    "# Initialize the tokenizer\n",
    "tokenizer = BertTokenizer.from_pretrained('bert-base-uncased')"
   ]
  },
  {
   "cell_type": "markdown",
   "id": "60530e74",
   "metadata": {},
   "source": [
    "**Preprocessing**"
   ]
  },
  {
   "cell_type": "markdown",
   "id": "f94452a9",
   "metadata": {
    "id": "3vDrBQeClufZ"
   },
   "source": [
    "**Find out the maximum length of comment**"
   ]
  },
  {
   "cell_type": "code",
   "execution_count": null,
   "id": "eb8b6a2f",
   "metadata": {
    "id": "xFrhI3tiYl-_",
    "outputId": "fffd3c9e-3645-4b8b-ec86-f8f6fb15781d"
   },
   "outputs": [],
   "source": [
    "# Example of calculating the length of each comment\n",
    "comment_lengths = train_x['string'].apply(lambda x: len(tokenizer.tokenize(x)))\n",
    "\n",
    "# Look at the distribution of comment lengths\n",
    "print(comment_lengths.describe())\n",
    "\n",
    "# Find the 95th percentile length\n",
    "max_length = int(comment_lengths.quantile(0.95))\n",
    "\n",
    "print(f\"Chosen max_length: {max_length}\")\n",
    "\n",
    "#211 is the max_length\n"
   ]
  },
  {
   "cell_type": "markdown",
   "id": "83e97b7d",
   "metadata": {},
   "source": [
    "**1. Tokenizing the Dataset with BERT Tokenizer - Train Dataset**"
   ]
  },
  {
   "cell_type": "code",
   "execution_count": null,
   "id": "cbd372c6",
   "metadata": {
    "execution": {
     "iopub.execute_input": "2024-01-17T20:57:41.235200Z",
     "iopub.status.busy": "2024-01-17T20:57:41.234385Z",
     "iopub.status.idle": "2024-01-17T20:59:44.508753Z",
     "shell.execute_reply": "2024-01-17T20:59:44.507304Z",
     "shell.execute_reply.started": "2024-01-17T20:57:41.235166Z"
    },
    "id": "b0OshFlbW672",
    "outputId": "a417768c-aba7-41d3-b291-f3a0a2b93955"
   },
   "outputs": [],
   "source": [
    "# Tokenize all comments in the train_x dataset\n",
    "encoded_data_train = tokenizer.batch_encode_plus(\n",
    "    train_x['string'].tolist(),\n",
    "    add_special_tokens=True,\n",
    "    return_attention_mask=True,\n",
    "    padding=True,\n",
    "    truncation=True,\n",
    "    max_length=230,\n",
    "    return_tensors='pt'\n",
    ")\n",
    "\n",
    "# Extract the input IDs and attention masks\n",
    "input_ids_train = encoded_data_train['input_ids']\n",
    "attention_masks_train = encoded_data_train['attention_mask']"
   ]
  },
  {
   "cell_type": "markdown",
   "id": "e6e9de13",
   "metadata": {},
   "source": [
    "**2. Tokenizing the Dataset with BERT Tokenizer - Val Dataset**"
   ]
  },
  {
   "cell_type": "code",
   "execution_count": null,
   "id": "4e24b0cb",
   "metadata": {
    "execution": {
     "iopub.execute_input": "2024-01-17T20:59:55.600592Z",
     "iopub.status.busy": "2024-01-17T20:59:55.600232Z",
     "iopub.status.idle": "2024-01-17T21:01:51.083657Z",
     "shell.execute_reply": "2024-01-17T21:01:51.082676Z",
     "shell.execute_reply.started": "2024-01-17T20:59:55.600562Z"
    }
   },
   "outputs": [],
   "source": [
    "encoded_data_val = tokenizer.batch_encode_plus(\n",
    "    val_x['string'].tolist(),\n",
    "    add_special_tokens=True,\n",
    "    return_attention_mask=True,\n",
    "    padding=True,\n",
    "    truncation=True,\n",
    "    max_length=230, #215\n",
    "    return_tensors='pt'\n",
    ")\n",
    "\n",
    "input_ids_val = encoded_data_val['input_ids']\n",
    "attention_masks_val = encoded_data_val['attention_mask']"
   ]
  },
  {
   "cell_type": "markdown",
   "id": "0d1c384e",
   "metadata": {},
   "source": [
    "**3. Tokenizing the Dataset with BERT Tokenizer - Test Dataset**"
   ]
  },
  {
   "cell_type": "code",
   "execution_count": null,
   "id": "46a2bce2",
   "metadata": {
    "execution": {
     "iopub.execute_input": "2024-01-17T21:02:14.067169Z",
     "iopub.status.busy": "2024-01-17T21:02:14.066227Z",
     "iopub.status.idle": "2024-01-17T21:07:52.897419Z",
     "shell.execute_reply": "2024-01-17T21:07:52.896637Z",
     "shell.execute_reply.started": "2024-01-17T21:02:14.067122Z"
    }
   },
   "outputs": [],
   "source": [
    "encoded_data_test = tokenizer.batch_encode_plus(\n",
    "    test_x['string'].tolist(),\n",
    "    add_special_tokens=True,\n",
    "    return_attention_mask=True,\n",
    "    padding=True,\n",
    "    truncation=True,\n",
    "    max_length=230,\n",
    "    return_tensors='pt'\n",
    ")\n",
    "\n",
    "input_ids_test = encoded_data_test['input_ids']\n",
    "attention_masks_test = encoded_data_test['attention_mask']"
   ]
  },
  {
   "cell_type": "code",
   "execution_count": null,
   "id": "43c9394e",
   "metadata": {
    "execution": {
     "iopub.execute_input": "2024-01-17T21:50:29.764091Z",
     "iopub.status.busy": "2024-01-17T21:50:29.763734Z",
     "iopub.status.idle": "2024-01-17T21:50:29.769277Z",
     "shell.execute_reply": "2024-01-17T21:50:29.768364Z",
     "shell.execute_reply.started": "2024-01-17T21:50:29.764063Z"
    }
   },
   "outputs": [],
   "source": [
    "# Assuming you don't have labels for test data\n",
    "# Create a dummy tensor for indices (same length as input_ids_test)\n",
    "dummy_indices = torch.arange(len(input_ids_test))"
   ]
  },
  {
   "cell_type": "markdown",
   "id": "d7353d84",
   "metadata": {},
   "source": [
    "**Setup Necessary Columns and Create Tensor Data Set and Data Loader - Train**"
   ]
  },
  {
   "cell_type": "code",
   "execution_count": null,
   "id": "09801f3e",
   "metadata": {
    "execution": {
     "iopub.execute_input": "2024-01-17T21:09:31.554529Z",
     "iopub.status.busy": "2024-01-17T21:09:31.554164Z",
     "iopub.status.idle": "2024-01-17T21:09:31.570540Z",
     "shell.execute_reply": "2024-01-17T21:09:31.569679Z",
     "shell.execute_reply.started": "2024-01-17T21:09:31.554498Z"
    },
    "id": "yTZgY600qg_o"
   },
   "outputs": [],
   "source": [
    "# Select identity columns and the 'y' label\n",
    "identity_columns = ['male', 'female', 'LGBTQ', 'christian', 'muslim', 'other_religions', 'black', 'white']\n",
    "relevant_columns = identity_columns + ['y']\n",
    "train_y_relevant = train_y[relevant_columns]"
   ]
  },
  {
   "cell_type": "code",
   "execution_count": null,
   "id": "68c40da1",
   "metadata": {
    "execution": {
     "iopub.execute_input": "2024-01-17T17:00:12.526299Z",
     "iopub.status.busy": "2024-01-17T17:00:12.525560Z",
     "iopub.status.idle": "2024-01-17T17:00:12.550496Z",
     "shell.execute_reply": "2024-01-17T17:00:12.549321Z",
     "shell.execute_reply.started": "2024-01-17T17:00:12.526250Z"
    },
    "id": "iWnx9ey5pB45"
   },
   "outputs": [],
   "source": [
    "# Extract the binary target labels\n",
    "labels_train = torch.tensor(train_y['y'].values)"
   ]
  },
  {
   "cell_type": "code",
   "execution_count": null,
   "id": "f5c3c89e",
   "metadata": {
    "execution": {
     "iopub.execute_input": "2024-01-17T17:00:18.288864Z",
     "iopub.status.busy": "2024-01-17T17:00:18.287901Z",
     "iopub.status.idle": "2024-01-17T17:00:18.298615Z",
     "shell.execute_reply": "2024-01-17T17:00:18.297388Z",
     "shell.execute_reply.started": "2024-01-17T17:00:18.288815Z"
    },
    "id": "lbYStqUzc3_K"
   },
   "outputs": [],
   "source": [
    "# Extract identity information\n",
    "identity_info_train = train_y_relevant[identity_columns]"
   ]
  },
  {
   "cell_type": "code",
   "execution_count": null,
   "id": "6a3af108",
   "metadata": {
    "execution": {
     "iopub.execute_input": "2024-01-17T17:00:20.713927Z",
     "iopub.status.busy": "2024-01-17T17:00:20.713432Z",
     "iopub.status.idle": "2024-01-17T17:00:21.005098Z",
     "shell.execute_reply": "2024-01-17T17:00:21.003806Z",
     "shell.execute_reply.started": "2024-01-17T17:00:20.713885Z"
    },
    "id": "Xj0uLpFNdeqe"
   },
   "outputs": [],
   "source": [
    "# Create TensorDataset\n",
    "dataset_train = TensorDataset(input_ids_train, attention_masks_train, labels_train)\n",
    "\n",
    "# Create DataLoader\n",
    "dataloader_train = DataLoader(dataset_train, batch_size=64, shuffle=True)"
   ]
  },
  {
   "cell_type": "code",
   "execution_count": null,
   "id": "672e5cbf",
   "metadata": {
    "execution": {
     "iopub.execute_input": "2024-01-17T21:09:51.770080Z",
     "iopub.status.busy": "2024-01-17T21:09:51.769148Z",
     "iopub.status.idle": "2024-01-17T21:09:51.782700Z",
     "shell.execute_reply": "2024-01-17T21:09:51.781795Z",
     "shell.execute_reply.started": "2024-01-17T21:09:51.770043Z"
    }
   },
   "outputs": [],
   "source": [
    "from torch.utils.data import DataLoader, TensorDataset, SequentialSampler\n",
    "\n",
    "# Create a dataset with input IDs, attention masks, labels, and indices\n",
    "dataset_val = TensorDataset(input_ids_val, attention_masks_val, labels_val, torch.arange(len(labels_val)))\n",
    "\n",
    "# Create a sequential sampler and dataloader\n",
    "sampler_val = SequentialSampler(dataset_val)\n",
    "dataloader_val = DataLoader(dataset_val, sampler=sampler_val, batch_size=64)\n",
    "\n",
    "# Now, the dataloader will yield batches in the form (input_ids, attention_masks, labels, indices)"
   ]
  },
  {
   "cell_type": "markdown",
   "id": "52ea6a0b",
   "metadata": {},
   "source": [
    "**Setup Necessary Columns and Create Tensor Data Set and Data Loader - Val**"
   ]
  },
  {
   "cell_type": "code",
   "execution_count": null,
   "id": "7ed62c98",
   "metadata": {
    "execution": {
     "iopub.execute_input": "2024-01-17T21:09:45.081938Z",
     "iopub.status.busy": "2024-01-17T21:09:45.081108Z",
     "iopub.status.idle": "2024-01-17T21:09:45.101361Z",
     "shell.execute_reply": "2024-01-17T21:09:45.100497Z",
     "shell.execute_reply.started": "2024-01-17T21:09:45.081908Z"
    }
   },
   "outputs": [],
   "source": [
    "val_y_relevant = val_y[relevant_columns]\n",
    "labels_val = torch.tensor(val_y_relevant['y'].values)\n",
    "identity_info_val = val_y_relevant[identity_columns]"
   ]
  },
  {
   "cell_type": "code",
   "execution_count": null,
   "id": "469299e3",
   "metadata": {
    "execution": {
     "iopub.execute_input": "2024-01-17T17:00:26.551912Z",
     "iopub.status.busy": "2024-01-17T17:00:26.551552Z",
     "iopub.status.idle": "2024-01-17T17:00:26.557325Z",
     "shell.execute_reply": "2024-01-17T17:00:26.556199Z",
     "shell.execute_reply.started": "2024-01-17T17:00:26.551886Z"
    }
   },
   "outputs": [],
   "source": [
    "dataset_val = TensorDataset(input_ids_val, attention_masks_val, labels_val)\n",
    "dataloader_val = DataLoader(dataset_val, batch_size=64)  # Use the same batch size as the training set"
   ]
  },
  {
   "cell_type": "markdown",
   "id": "20568984",
   "metadata": {},
   "source": [
    "**Setup Necessary Columns and Create Tensor Data Set and Data Loader - Test**"
   ]
  },
  {
   "cell_type": "code",
   "execution_count": null,
   "id": "47f0c936",
   "metadata": {
    "execution": {
     "iopub.execute_input": "2024-01-17T21:52:11.694585Z",
     "iopub.status.busy": "2024-01-17T21:52:11.693528Z",
     "iopub.status.idle": "2024-01-17T21:52:11.699103Z",
     "shell.execute_reply": "2024-01-17T21:52:11.698163Z",
     "shell.execute_reply.started": "2024-01-17T21:52:11.694549Z"
    }
   },
   "outputs": [],
   "source": [
    "# Create TensorDataset for test data\n",
    "dataset_test = TensorDataset(input_ids_test, attention_masks_test, dummy_indices)\n",
    "\n",
    "# Set up a DataLoader for the test set\n",
    "dataloader_test = DataLoader(dataset_test, batch_size=512, shuffle=False)  # Use the same batch size as the training set"
   ]
  },
  {
   "cell_type": "markdown",
   "id": "d894e002",
   "metadata": {
    "id": "W-AIhQkFe-pN"
   },
   "source": [
    "## Define the BERT Model for Sequence Classification"
   ]
  },
  {
   "cell_type": "code",
   "execution_count": null,
   "id": "3b925cb2",
   "metadata": {
    "execution": {
     "iopub.execute_input": "2024-01-17T21:10:07.803781Z",
     "iopub.status.busy": "2024-01-17T21:10:07.803088Z",
     "iopub.status.idle": "2024-01-17T21:10:09.758651Z",
     "shell.execute_reply": "2024-01-17T21:10:09.757758Z",
     "shell.execute_reply.started": "2024-01-17T21:10:07.803747Z"
    },
    "id": "rbzWQL29eayg",
    "outputId": "47ed77c6-4efb-4731-a194-029806fb31bf"
   },
   "outputs": [],
   "source": [
    "# Load BERT model for sequence classification\n",
    "model = BertForSequenceClassification.from_pretrained(\n",
    "    'bert-base-uncased',\n",
    "    num_labels=2,\n",
    "    output_attentions=False,\n",
    "    output_hidden_states=False,\n",
    ")\n",
    "# Move model to GPU or CPU\n",
    "model.cuda()\n"
   ]
  },
  {
   "cell_type": "code",
   "execution_count": null,
   "id": "9e7b1321",
   "metadata": {
    "execution": {
     "iopub.execute_input": "2024-01-17T21:10:15.664519Z",
     "iopub.status.busy": "2024-01-17T21:10:15.664161Z",
     "iopub.status.idle": "2024-01-17T21:10:15.827669Z",
     "shell.execute_reply": "2024-01-17T21:10:15.826675Z",
     "shell.execute_reply.started": "2024-01-17T21:10:15.664492Z"
    },
    "id": "iqwLvQFwnKUi"
   },
   "outputs": [],
   "source": [
    "# Calculate class weights for handling class imbalance\n",
    "class_weights = train_y['y'].value_counts(normalize=True)\n",
    "weights = torch.tensor([1.0 - class_weights[0], 1.0 - class_weights[1]]).cuda()"
   ]
  },
  {
   "cell_type": "code",
   "execution_count": null,
   "id": "04a83b29",
   "metadata": {
    "execution": {
     "iopub.execute_input": "2024-01-17T21:10:17.720793Z",
     "iopub.status.busy": "2024-01-17T21:10:17.720052Z",
     "iopub.status.idle": "2024-01-17T21:10:17.726780Z",
     "shell.execute_reply": "2024-01-17T21:10:17.725799Z",
     "shell.execute_reply.started": "2024-01-17T21:10:17.720762Z"
    },
    "id": "SE1gUl-NnL16",
    "outputId": "f95de1db-bc5e-4e24-f1a9-2bd167dc7e09"
   },
   "outputs": [],
   "source": [
    "# Import the PyTorch AdamW optimizer\n",
    "from torch.optim import AdamW\n",
    "\n",
    "# Define the optimizer and loss function\n",
    "optimizer = AdamW(model.parameters(), lr=1e-5, eps=1e-8)\n",
    "criterion = torch.nn.BCEWithLogitsLoss(pos_weight=weights)"
   ]
  },
  {
   "cell_type": "markdown",
   "id": "129fe28a",
   "metadata": {
    "id": "UrP9gE1sfQbQ"
   },
   "source": [
    "## Training the BERT Model on Train Dataset"
   ]
  },
  {
   "cell_type": "code",
   "execution_count": null,
   "id": "200b856a",
   "metadata": {},
   "outputs": [],
   "source": [
    "# Set the number of training epochs\n",
    "epochs = 4\n",
    "best_train_loss = float('inf')\n",
    "best_val_loss = float('inf')\n",
    "\n",
    "# Create the learning rate scheduler\n",
    "total_steps = len(dataloader_train) * epochs\n",
    "scheduler = get_linear_schedule_with_warmup(optimizer, num_warmup_steps=0, num_training_steps=total_steps)\n",
    "\n",
    "# Function to calculate the accuracy\n",
    "def flat_accuracy(preds, labels):\n",
    "    pred_flat = np.argmax(preds, axis=1).flatten()\n",
    "    labels_flat = labels.flatten()\n",
    "    return np.sum(pred_flat == labels_flat) / len(labels_flat)\n",
    "\n",
    "# Training loop\n",
    "for epoch_i in range(epochs):\n",
    "    print(f'======== Epoch {epoch_i + 1} / {epochs} ========')\n",
    "    total_train_loss = 0\n",
    "    total_train_accuracy = 0\n",
    "\n",
    "    model.train()\n",
    "    for step, batch in enumerate(tqdm(dataloader_train, desc='Batch', leave=False)):\n",
    "        b_input_ids = batch[0].to(device)\n",
    "        b_input_mask = batch[1].to(device)\n",
    "        b_labels = batch[2].to(device)\n",
    "\n",
    "        model.zero_grad()\n",
    "        outputs = model(b_input_ids, token_type_ids=None, attention_mask=b_input_mask, labels=b_labels)\n",
    "\n",
    "        loss = outputs.loss\n",
    "        logits = outputs.logits.detach().cpu().numpy()\n",
    "        label_ids = b_labels.to('cpu').numpy()\n",
    "\n",
    "        total_train_loss += loss.item()\n",
    "        total_train_accuracy += flat_accuracy(logits, label_ids)\n",
    "\n",
    "        loss.backward()\n",
    "        torch.nn.utils.clip_grad_norm_(model.parameters(), 1.0)\n",
    "        optimizer.step()\n",
    "        scheduler.step()\n",
    "\n",
    "    avg_train_loss = total_train_loss / len(dataloader_train)\n",
    "    avg_train_accuracy = total_train_accuracy / len(dataloader_train)\n",
    "    print(f\"  Average training loss: {avg_train_loss:.2f}\")\n",
    "    print(f\"  Training Accuracy: {avg_train_accuracy:.2f}\")\n",
    "\n",
    "    # Save the model if training loss decreases\n",
    "    if avg_train_loss < best_train_loss:\n",
    "        best_train_loss = avg_train_loss\n",
    "        torch.save(model.state_dict(), 'best_model_train.pth')\n",
    "        print(\"Best model saved based on training loss!\")\n",
    "\n",
    "    # Evaluate on validation set\n",
    "    # The evaluate_model function needs to be defined elsewhere in your code\n",
    "    val_loss, val_worst_group_accuracy, val_group_accuracies = evaluate_model(model, dataloader_val, criterion, device=device)\n",
    "    print(f\"Validation Loss: {val_loss:.2f}\")\n",
    "    print(f\"Worst Group Accuracy: {val_worst_group_accuracy:.2f}\")\n",
    "    # ... Additional code to print group accuracies ...\n",
    "\n",
    "    # Save the best model based on validation loss\n",
    "    if val_loss < best_val_loss:\n",
    "        best_val_loss = val_loss\n",
    "        torch.save(model.state_dict(), 'best_model_val.pth')\n",
    "        print(\"Best model saved based on validation loss!\")\n",
    "\n",
    "print(\"Training complete!\")\n"
   ]
  },
  {
   "cell_type": "code",
   "execution_count": null,
   "id": "b2fb7112",
   "metadata": {
    "execution": {
     "iopub.execute_input": "2024-01-17T21:10:25.933467Z",
     "iopub.status.busy": "2024-01-17T21:10:25.932756Z",
     "iopub.status.idle": "2024-01-17T21:10:30.296692Z",
     "shell.execute_reply": "2024-01-17T21:10:30.295689Z",
     "shell.execute_reply.started": "2024-01-17T21:10:25.933430Z"
    }
   },
   "outputs": [],
   "source": [
    "# Load the model\n",
    "model = BertForSequenceClassification.from_pretrained(\n",
    "    'bert-base-uncased',\n",
    "    num_labels=2,\n",
    "    output_attentions=False,\n",
    "    output_hidden_states=False,\n",
    ")\n",
    "\n",
    "# Load the weights from the saved file directly to the GPU\n",
    "model.load_state_dict(torch.load('/kaggle/input/bert-round-1-epoch3/best_model_3.pth', map_location=torch.device('cuda')))\n",
    "\n",
    "# Move the model to GPU\n",
    "model.to('cuda')"
   ]
  },
  {
   "cell_type": "markdown",
   "id": "48dc2d30",
   "metadata": {},
   "source": [
    "## **Evaluation Process**"
   ]
  },
  {
   "cell_type": "markdown",
   "id": "3540610a",
   "metadata": {},
   "source": [
    "**Evaluate the model on the validation dataset**"
   ]
  },
  {
   "cell_type": "code",
   "execution_count": null,
   "id": "dc3b74bf",
   "metadata": {
    "execution": {
     "iopub.execute_input": "2024-01-17T21:35:08.727559Z",
     "iopub.status.busy": "2024-01-17T21:35:08.726668Z",
     "iopub.status.idle": "2024-01-17T21:35:08.734569Z",
     "shell.execute_reply": "2024-01-17T21:35:08.733395Z",
     "shell.execute_reply.started": "2024-01-17T21:35:08.727524Z"
    }
   },
   "outputs": [],
   "source": [
    "def worst_group_accuracy(prediction, y):\n",
    "    \"\"\"\n",
    "        Compute the worst group accuracy, with the groups being defined by ['male', 'female', 'LGBTQ',\n",
    "        'christian', 'muslim', 'other_religions', 'black', 'white'] for positive and negative toxicity.\n",
    "        arguments:\n",
    "            prediction [pandas.DataFrame]: dataframe with 2 columns (index and pred)\n",
    "            y [pandas.DataFrame]: dataframe containing the metadata\n",
    "        returns:\n",
    "            wga [float]: worst group accuracy\n",
    "    \"\"\"\n",
    "    y.loc[prediction.index, 'pred'] = prediction.pred\n",
    "\n",
    "    categories = ['male', 'female', 'LGBTQ', 'christian', 'muslim', 'other_religions', 'black', 'white']\n",
    "    accuracies = []\n",
    "    for category in categories:\n",
    "        for label in [0, 1]:\n",
    "            group = y.loc[y[category] == label]\n",
    "            group_accuracy = (group['y'] == (group['pred'] > 0.5)).mean()\n",
    "            accuracies.append(group_accuracy)\n",
    "    wga = np.min(accuracies)\n",
    "    return wga, accuracies\n"
   ]
  },
  {
   "cell_type": "code",
   "execution_count": null,
   "id": "cac4222f",
   "metadata": {
    "execution": {
     "iopub.execute_input": "2024-01-17T21:39:15.330818Z",
     "iopub.status.busy": "2024-01-17T21:39:15.330428Z",
     "iopub.status.idle": "2024-01-17T21:39:15.339834Z",
     "shell.execute_reply": "2024-01-17T21:39:15.338955Z",
     "shell.execute_reply.started": "2024-01-17T21:39:15.330787Z"
    }
   },
   "outputs": [],
   "source": [
    "# evaluate_model function\n",
    "def evaluate_model(model, dataloader, labels, criterion, device='cuda'):\n",
    "    model.eval()\n",
    "    model.to(device)\n",
    "    losses, predictions, indices = [], [], []\n",
    "\n",
    "    for batch in tqdm(dataloader, leave=False):\n",
    "        b_input_ids, b_input_mask, b_labels, idx = batch\n",
    "        b_input_ids = b_input_ids.to(device)\n",
    "        b_input_mask = b_input_mask.to(device)\n",
    "        b_labels = b_labels.to(device)\n",
    "\n",
    "    with torch.no_grad():\n",
    "        outputs = model(b_input_ids, token_type_ids=None, attention_mask=b_input_mask)\n",
    "        logits = outputs.logits\n",
    "        \n",
    "    pred = torch.sigmoid(logits)[:, 1]  # Shape: [batch_size]\n",
    "    loss = criterion(pred, b_labels.float())  # Ensure b_labels is float for BCE loss\n",
    "\n",
    "    losses.extend([loss.item()] * b_input_ids.size(0))\n",
    "    predictions.extend(pred.detach().cpu().numpy())\n",
    "    indices.extend(idx.tolist())\n",
    "\n",
    "    pred_df = pd.DataFrame({'index': indices, 'pred': predictions})\n",
    "    dataset_loss = np.mean(losses)\n",
    "    wga, group_accuracies = worst_group_accuracy(pred_df.set_index('index'), labels)\n",
    "\n",
    "    return dataset_loss, wga, group_accuracies"
   ]
  },
  {
   "cell_type": "code",
   "execution_count": null,
   "id": "f690611b",
   "metadata": {
    "execution": {
     "iopub.execute_input": "2024-01-17T21:54:23.325153Z",
     "iopub.status.busy": "2024-01-17T21:54:23.324447Z",
     "iopub.status.idle": "2024-01-17T21:54:24.481590Z",
     "shell.execute_reply": "2024-01-17T21:54:24.480729Z",
     "shell.execute_reply.started": "2024-01-17T21:54:23.325118Z"
    }
   },
   "outputs": [],
   "source": [
    "# Define the criterion (loss function) \n",
    "criterion = torch.nn.BCEWithLogitsLoss()\n",
    "# Assuming val_y is your DataFrame containing the validation labels and metadata\n",
    "val_loss, val_worst_group_accuracy, group_accuracies = evaluate_model(model, dataloader_val, val_y, criterion, device='cuda')\n",
    "\n",
    "# Print the results\n",
    "print(f\"Validation Loss: {val_loss:.2f}\")\n",
    "print(f\"Worst Group Accuracy: {val_worst_group_accuracy:.2f}\")\n",
    "\n",
    "# Print accuracies for each group\n",
    "categories = ['male', 'female', 'LGBTQ', 'christian', 'muslim', 'other_religions', 'black', 'white']\n",
    "for i, category in enumerate(categories):\n",
    "    print(f\"{category}_true: {group_accuracies[2*i]:.2f}\")\n",
    "    print(f\"{category}_false: {group_accuracies[2*i + 1]:.2f}\")\n"
   ]
  },
  {
   "cell_type": "markdown",
   "id": "799743f6",
   "metadata": {},
   "source": [
    "## **Generate Classification on Test Dataset**"
   ]
  },
  {
   "cell_type": "code",
   "execution_count": null,
   "id": "10c2bd4f",
   "metadata": {
    "execution": {
     "iopub.execute_input": "2024-01-17T21:54:46.086462Z",
     "iopub.status.busy": "2024-01-17T21:54:46.086093Z",
     "iopub.status.idle": "2024-01-17T22:09:25.157488Z",
     "shell.execute_reply": "2024-01-17T22:09:25.156587Z",
     "shell.execute_reply.started": "2024-01-17T21:54:46.086432Z"
    }
   },
   "outputs": [],
   "source": [
    "model.eval()  # Set the model to evaluation mode\n",
    "test_predictions, indices = [], []\n",
    "\n",
    "# Iterate over batches in the test dataloader\n",
    "for batch in tqdm(dataloader_test, leave=False):\n",
    "    b_input_ids, b_input_mask, idx = batch\n",
    "\n",
    "    # Move inputs to the device (GPU or CPU)\n",
    "    b_input_ids = b_input_ids.to('cuda')\n",
    "    b_input_mask = b_input_mask.to('cuda')\n",
    "\n",
    "    with torch.no_grad():\n",
    "        # Get model outputs (logits)\n",
    "        outputs = model(b_input_ids, token_type_ids=None, attention_mask=b_input_mask)\n",
    "        logits = outputs.logits\n",
    "\n",
    "    # Convert logits to probabilities and then to binary predictions\n",
    "    # Assuming positive class is the second column (index 1)\n",
    "    pred = torch.sigmoid(logits)[:, 1]  # Get probabilities for the positive class\n",
    "    pred = (pred > 0.5).int()  # Convert to 0 or 1 based on threshold\n",
    "    test_predictions.extend(pred.cpu().tolist())\n",
    "    indices.extend(idx.cpu().tolist())\n"
   ]
  },
  {
   "cell_type": "markdown",
   "id": "d8b2be73",
   "metadata": {},
   "source": [
    "## **Create Submission File**"
   ]
  },
  {
   "cell_type": "code",
   "execution_count": null,
   "id": "c0005f31",
   "metadata": {
    "execution": {
     "iopub.execute_input": "2024-01-17T22:10:40.606573Z",
     "iopub.status.busy": "2024-01-17T22:10:40.606219Z",
     "iopub.status.idle": "2024-01-17T22:10:40.974476Z",
     "shell.execute_reply": "2024-01-17T22:10:40.973664Z",
     "shell.execute_reply.started": "2024-01-17T22:10:40.606543Z"
    }
   },
   "outputs": [],
   "source": [
    "# Create a DataFrame for submission\n",
    "pred_df = pd.DataFrame({\n",
    "    'ID': indices,\n",
    "    'pred': test_predictions\n",
    "})\n",
    "\n",
    "# Save the DataFrame to a CSV file for submission\n",
    "pred_df.to_csv('prediction_bert.csv', index=False)"
   ]
  },
  {
   "cell_type": "markdown",
   "id": "d525f058",
   "metadata": {},
   "source": [
    "## **BERT Fine-Tuned** \n",
    "\n",
    "**Addressing Underperformance of Black, White, LGBTQ+, Muslim,other Religions for under represented identities**"
   ]
  },
  {
   "cell_type": "code",
   "execution_count": null,
   "id": "451d4dbf",
   "metadata": {},
   "outputs": [],
   "source": [
    "# Assuming the files are in the \"input/dl-kaggle\" folder\n",
    "train_x = pd.read_csv('/kaggle/input/dl-kaggle/train_x.csv')\n",
    "train_y = pd.read_csv('/kaggle/input/dl-kaggle/train_y.csv')\n",
    "\n",
    "# Load your validation and test sets if you have them ready.\n",
    "val_x = pd.read_csv('/kaggle/input/dl-kaggle/val_x.csv')\n",
    "val_y = pd.read_csv('/kaggle/input/dl-kaggle/val_y.csv')\n",
    "\n",
    "test_x = pd.read_csv('/kaggle/input/dl-kaggle/test_x.csv')"
   ]
  },
  {
   "cell_type": "code",
   "execution_count": null,
   "id": "9b77e261",
   "metadata": {},
   "outputs": [],
   "source": [
    "# Define a function for text cleaning\n",
    "def clean_text(text):\n",
    "    # Lowercasing\n",
    "    text = text.lower()\n",
    "\n",
    "    # Remove special characters, numbers, and punctuation\n",
    "    text = re.sub(r'[^a-zA-Z\\s]', '', text)\n",
    "\n",
    "    # Remove extra whitespaces\n",
    "    text = ' '.join(text.split())\n",
    "\n",
    "    return text\n",
    "\n",
    "# Apply the cleaning function to the 'string' column in each dataset\n",
    "train_x['string'] = train_x['string'].apply(clean_text)\n",
    "val_x['string'] = val_x['string'].apply(clean_text)\n",
    "test_x['string'] = test_x['string'].apply(clean_text)\n",
    "\n",
    "# Check the first few rows of your cleaned training data\n",
    "print(train_x.head())"
   ]
  },
  {
   "cell_type": "code",
   "execution_count": null,
   "id": "08502863",
   "metadata": {},
   "outputs": [],
   "source": [
    "# Helper function to calculate class weights for BCEWithLogitsLoss\n",
    "def calculate_class_weights(targets):\n",
    "    class_counts = targets.value_counts()\n",
    "    total_samples = len(targets)\n",
    "    class_weights = {label: total_samples / count for label, count in class_counts.items()}\n",
    "    return torch.tensor(list(class_weights.values()), dtype=torch.float32)"
   ]
  },
  {
   "cell_type": "code",
   "execution_count": null,
   "id": "4b339f7d",
   "metadata": {},
   "outputs": [],
   "source": [
    "# Helper function to oversample underrepresented identities\n",
    "def create_oversampled_dataloader(train_x, train_y, tokenizer, batch_size=32):\n",
    "    # Assuming 'identity' is the column containing identity labels\n",
    "    identities = ['male', 'female', 'LGBTQ', 'christian', 'muslim', 'other_religions', 'black', 'white']\n",
    "    \n",
    "    oversampled_data = []\n",
    "    for identity in identities:\n",
    "        subset = train_x[train_x[identity] == 1]\n",
    "        oversampled_data.append(subset)\n",
    "    \n",
    "    oversampled_data = pd.concat(oversampled_data, ignore_index=True)\n",
    "    oversampled_labels = train_y.loc[oversampled_data.index]['target'].values\n",
    "    \n",
    "    # Tokenize oversampled data\n",
    "    encoded_data_oversampled = tokenizer.batch_encode_plus(\n",
    "        oversampled_data['string'].tolist(),\n",
    "        add_special_tokens=True,\n",
    "        return_attention_mask=True,\n",
    "        padding=True,\n",
    "        truncation=True,\n",
    "        max_length=230,\n",
    "        return_tensors='pt'\n",
    "    )\n",
    "    \n",
    "    input_ids_oversampled = encoded_data_oversampled['input_ids']\n",
    "    attention_masks_oversampled = encoded_data_oversampled['attention_mask']\n",
    "    \n",
    "    # Create TensorDataset\n",
    "    dataset_oversampled = TensorDataset(input_ids_oversampled, attention_masks_oversampled, torch.tensor(oversampled_labels, dtype=torch.float32))\n",
    "    \n",
    "    # Create DataLoader\n",
    "    dataloader_oversampled = DataLoader(dataset_oversampled, batch_size=batch_size, shuffle=True)\n",
    "    \n",
    "    return dataloader_oversampled"
   ]
  },
  {
   "cell_type": "code",
   "execution_count": null,
   "id": "d0bdee1e",
   "metadata": {},
   "outputs": [],
   "source": [
    "# Initialize the tokenizer\n",
    "tokenizer = BertTokenizer.from_pretrained('bert-base-uncased')\n",
    "\n",
    "# Tokenize all comments in the train_x dataset\n",
    "encoded_data_train = tokenizer.batch_encode_plus(\n",
    "    train_x['string'].tolist(),\n",
    "    add_special_tokens=True,\n",
    "    return_attention_mask=True,\n",
    "    padding=True,\n",
    "    truncation=True,\n",
    "    max_length=230,\n",
    "    return_tensors='pt'\n",
    ")\n",
    "\n",
    "# Extract the input IDs and attention masks\n",
    "input_ids_train = encoded_data_train['input_ids']\n",
    "attention_masks_train = encoded_data_train['attention_mask']\n",
    "\n",
    "# Assuming train_y is your DataFrame containing the training labels and metadata\n",
    "labels_train = torch.tensor(train_y['target'].values, dtype=torch.float32)\n",
    "\n",
    "# Class Imbalance Handling: Calculate class weights for BCEWithLogitsLoss\n",
    "class_weights = calculate_class_weights(train_y['target'])\n",
    "criterion = torch.nn.BCEWithLogitsLoss(weight=class_weights)\n",
    "\n",
    "# Identity Representation: Oversample underrepresented identities\n",
    "oversampled_train_dataloader = create_oversampled_dataloader(train_x, train_y, tokenizer, batch_size=32)\n",
    "\n",
    "# Create TensorDataset for validation data\n",
    "encoded_data_val = tokenizer.batch_encode_plus(\n",
    "    val_x['string'].tolist(),\n",
    "    add_special_tokens=True,\n",
    "    return_attention_mask=True,\n",
    "    padding=True,\n",
    "    truncation=True,\n",
    "    max_length=230,\n",
    "    return_tensors='pt'\n",
    ")\n",
    "\n",
    "input_ids_val = encoded_data_val['input_ids']\n",
    "attention_masks_val = encoded_data_val['attention_mask']\n",
    "labels_val = torch.tensor(val_y['target'].values, dtype=torch.float32)\n",
    "\n",
    "dataset_val = TensorDataset(input_ids_val, attention_masks_val, labels_val)\n",
    "dataloader_val = DataLoader(dataset_val, batch_size=64)  # Adjust batch size as needed\n",
    "\n",
    "# Create TensorDataset for test data\n",
    "encoded_data_test = tokenizer.batch_encode_plus(\n",
    "    test_x['string'].tolist(),\n",
    "    add_special_tokens=True,\n",
    "    return_attention_mask=True,\n",
    "    padding=True,\n",
    "    truncation=True,\n",
    "    max_length=230,\n",
    "    return_tensors='pt'\n",
    ")\n",
    "\n",
    "input_ids_test = encoded_data_test['input_ids']\n",
    "attention_masks_test = encoded_data_test['attention_mask']\n",
    "dummy_indices = torch.arange(len(test_x))\n",
    "\n",
    "dataset_test = TensorDataset(input_ids_test, attention_masks_test, dummy_indices)\n",
    "dataloader_test = DataLoader(dataset_test, batch_size=512, shuffle=False)  # Adjust batch size as needed\n"
   ]
  },
  {
   "cell_type": "code",
   "execution_count": null,
   "id": "1a43eb5f",
   "metadata": {},
   "outputs": [],
   "source": [
    "# Define a function to calculate class weights for WeightedRandomSampler\n",
    "def calculate_class_weights(targets):\n",
    "    class_counts = np.bincount(targets.astype(int))\n",
    "    class_weights = 1.0 / torch.tensor(class_counts, dtype=torch.float32)\n",
    "    return class_weights\n",
    "\n",
    "# Calculate class weights for oversampling in the training set\n",
    "class_weights = calculate_class_weights(train_y['target'].values)\n",
    "\n",
    "# Create a WeightedRandomSampler for oversampling\n",
    "sampler = WeightedRandomSampler(weights=class_weights, num_samples=len(class_weights), replacement=True)\n",
    "\n",
    "# Create DataLoader for training with oversampling\n",
    "batch_size = 32\n",
    "train_dataloader = DataLoader(dataset_train, batch_size=batch_size, sampler=sampler)"
   ]
  },
  {
   "cell_type": "code",
   "execution_count": null,
   "id": "13a563a5",
   "metadata": {},
   "outputs": [],
   "source": [
    "# Define the BERT model for sequence classification\n",
    "# Load the pre-trained BERT model for sequence classification\n",
    "model = BertForSequenceClassification.from_pretrained('bert-base-uncased', num_labels=1)  # Assuming binary classification\n",
    "\n",
    "# Set up optimizer and learning rate scheduler\n",
    "optimizer = AdamW(model.parameters(), lr=2e-5)\n",
    "total_steps = len(train_dataloader) * epochs\n",
    "scheduler = get_linear_schedule_with_warmup(optimizer, num_warmup_steps=0, num_training_steps=total_steps)"
   ]
  },
  {
   "cell_type": "code",
   "execution_count": null,
   "id": "54a3d3ce",
   "metadata": {},
   "outputs": [],
   "source": [
    "# Corrected evaluate_model function\n",
    "def evaluate_model(model, dataloader, labels, criterion, device='cuda'):\n",
    "    model.eval()\n",
    "    model.to(device)\n",
    "    losses, predictions, indices = [], [], []\n",
    "\n",
    "    for batch in tqdm(dataloader, leave=False):\n",
    "        b_input_ids, b_input_mask, b_labels, idx = batch\n",
    "        b_input_ids = b_input_ids.to(device)\n",
    "        b_input_mask = b_input_mask.to(device)\n",
    "        b_labels = b_labels.to(device)\n",
    "\n",
    "        with torch.no_grad():\n",
    "            outputs = model(b_input_ids, token_type_ids=None, attention_mask=b_input_mask)\n",
    "            logits = outputs.logits\n",
    "        \n",
    "        pred = torch.sigmoid(logits)[:, 1]  # Shape: [batch_size]\n",
    "        loss = criterion(pred, b_labels.float())  # Ensure b_labels is float for BCE loss\n",
    "\n",
    "        losses.extend([loss.item()] * b_input_ids.size(0))\n",
    "        predictions.extend(pred.detach().cpu().numpy())\n",
    "        indices.extend(idx.tolist())\n",
    "\n",
    "    pred_df = pd.DataFrame({'index': indices, 'pred': predictions})\n",
    "    dataset_loss = np.mean(losses)\n",
    "    wga, group_accuracies = worst_group_accuracy(pred_df.set_index('index'), labels)\n",
    "\n",
    "    return dataset_loss, wga, group_accuracies\n",
    "\n",
    "# Function to calculate the worst group accuracy\n",
    "def worst_group_accuracy(prediction, y):\n",
    "    \"\"\"\n",
    "    Compute the worst group accuracy, with the groups being defined by ['male', 'female', 'LGBTQ',\n",
    "    'christian', 'muslim', 'other_religions', 'black', 'white'] for positive and negative toxicity.\n",
    "    Arguments:\n",
    "        prediction [pandas.DataFrame]: DataFrame with 2 columns (index and pred)\n",
    "        y [pandas.DataFrame]: DataFrame containing the metadata\n",
    "    Returns:\n",
    "        wga [float]: Worst group accuracy\n",
    "    \"\"\"\n",
    "    y.loc[prediction.index, 'pred'] = prediction.pred\n",
    "\n",
    "    categories = ['male', 'female', 'LGBTQ', 'christian', 'muslim', 'other_religions', 'black', 'white']\n",
    "    accuracies = []\n",
    "    for category in categories:\n",
    "        for label in [0, 1]:\n",
    "            group = y.loc[y[category] == label]\n",
    "            group_accuracy = (group['y'] == (group['pred'] > 0.5)).mean()\n",
    "            accuracies.append(group_accuracy)\n",
    "    wga = np.min(accuracies)\n",
    "    return wga, accuracies"
   ]
  },
  {
   "cell_type": "code",
   "execution_count": null,
   "id": "2d2d07f3",
   "metadata": {},
   "outputs": [],
   "source": [
    "# Training loop\n",
    "epochs = 4  # Adjust as needed\n",
    "best_val_loss = float('inf')  # Initialize with a large value\n",
    "\n",
    "for epoch_i in range(0, epochs):\n",
    "    print(f'======== Epoch {epoch_i + 1} / {epochs} ========')\n",
    "    total_loss = 0\n",
    "\n",
    "    model.train()\n",
    "    progress_bar = tqdm(train_dataloader, desc='Batch', leave=False)\n",
    "\n",
    "    for step, batch in enumerate(progress_bar):\n",
    "        b_input_ids = batch[0].cuda()\n",
    "        b_input_mask = batch[1].cuda()\n",
    "        b_labels = batch[2].cuda()\n",
    "\n",
    "        model.zero_grad()\n",
    "        outputs = model(b_input_ids, token_type_ids=None, attention_mask=b_input_mask, labels=b_labels)\n",
    "\n",
    "        loss = outputs.loss\n",
    "\n",
    "        total_loss += loss.item()\n",
    "\n",
    "        loss.backward()\n",
    "        torch.nn.utils.clip_grad_norm_(model.parameters(), 1.0)\n",
    "        optimizer.step()\n",
    "        scheduler.step()\n",
    "\n",
    "    avg_train_loss = total_loss / len(train_dataloader)\n",
    "    print(f\"  Average training loss: {avg_train_loss:.2f}\")\n",
    "\n",
    "    # Save the model if training loss decreases\n",
    "    if avg_train_loss < best_val_loss:\n",
    "        best_val_loss = avg_train_loss\n",
    "        torch.save(model.state_dict(), 'best_model.pth')\n",
    "        print(\"Best model saved!\")\n",
    "\n",
    "    # Validation step after each epoch\n",
    "    model.eval()\n",
    "    val_loss, val_worst_group_accuracy, val_group_accuracies = evaluate_model(model, dataloader_val, val_y)\n",
    "    \n",
    "    print(f\"Validation Loss: {val_loss:.2f}\")\n",
    "    print(f\"Worst Group Accuracy: {val_worst_group_accuracy:.2f}\")\n",
    "    for i, category in enumerate(categories):\n",
    "        print(f\"{category}_toxic: {val_group_accuracies[2*i]:.2f}\")\n",
    "        print(f\"{category}_non_toxic: {val_group_accuracies[2*i + 1]:.2f}\")"
   ]
  },
  {
   "cell_type": "markdown",
   "id": "8af0c125",
   "metadata": {
    "id": "HQcK7VrWWWAE"
   },
   "source": [
    "## **Fine tuning BERT with custom weights for demographic groups**\n",
    "\n",
    "\n",
    "**Addressing Underperformance of Black, White, LGBTQ+, Muslim,other Religions by custom weight allocation for under represented identities**"
   ]
  },
  {
   "cell_type": "markdown",
   "id": "2b08a0a4",
   "metadata": {},
   "source": [
    "Step 1: Calculate the difference_weight"
   ]
  },
  {
   "cell_type": "code",
   "execution_count": 13,
   "id": "89c2255f",
   "metadata": {
    "execution": {
     "iopub.execute_input": "2024-01-26T20:36:04.954580Z",
     "iopub.status.busy": "2024-01-26T20:36:04.953772Z",
     "iopub.status.idle": "2024-01-26T20:36:05.012430Z",
     "shell.execute_reply": "2024-01-26T20:36:05.011485Z",
     "shell.execute_reply.started": "2024-01-26T20:36:04.954547Z"
    }
   },
   "outputs": [
    {
     "name": "stdout",
     "output_type": "stream",
     "text": [
      "          Identity  Toxic_Count  Non_Toxic_Count  Total_Count  difference  \\\n",
      "0             male         4437            25373        29810       20936   \n",
      "1           female         4962            31282        36244       26320   \n",
      "2            LGBTQ         2265             6155         8420        3890   \n",
      "3        christian         2446            24292        26738       21846   \n",
      "4           muslim         3125            10829        13954        7704   \n",
      "5  other_religions         1003             5541         6544        4538   \n",
      "6            black         3111             6785         9896        3674   \n",
      "7            white         4682            12016        16698        7334   \n",
      "\n",
      "   difference_weight  \n",
      "0           1.423863  \n",
      "1           1.377052  \n",
      "2           2.164524  \n",
      "3           1.223931  \n",
      "4           1.811267  \n",
      "5           1.442045  \n",
      "6           2.693522  \n",
      "7           2.276793  \n"
     ]
    }
   ],
   "source": [
    "# Create an empty list to store summary statistics.\n",
    "summary_rows = []\n",
    "\n",
    "# Loop over each identity and calculate the statistics.\n",
    "for identity in ['male', 'female', 'LGBTQ', 'christian', 'muslim', 'other_religions', 'black', 'white']:\n",
    "    toxic_count = train_y[(train_y[identity] > 0.5) & (train_y['y'] == 1)].shape[0]\n",
    "    non_toxic_count = train_y[(train_y[identity] > 0.5) & (train_y['y'] == 0)].shape[0]\n",
    "    total_count = toxic_count + non_toxic_count\n",
    "    difference = non_toxic_count - toxic_count\n",
    "    difference_weight = total_count / difference  # Avoid division by zero.\n",
    "\n",
    "    # Create a dictionary for the new row.\n",
    "    new_row = {\n",
    "        'Identity': identity,\n",
    "        'Toxic_Count': toxic_count,\n",
    "        'Non_Toxic_Count': non_toxic_count,\n",
    "        'Total_Count': total_count,\n",
    "        'difference': difference,\n",
    "        'difference_weight': difference_weight\n",
    "    }\n",
    "    \n",
    "    # Append the new row to the list.\n",
    "    summary_rows.append(new_row)\n",
    "\n",
    "# Create a DataFrame from the list of rows.\n",
    "summary_df = pd.DataFrame(summary_rows)\n",
    "\n",
    "# Display the summary DataFrame.\n",
    "print(summary_df)"
   ]
  },
  {
   "cell_type": "markdown",
   "id": "6ecc1dcf",
   "metadata": {},
   "source": [
    "**Tokenization**"
   ]
  },
  {
   "cell_type": "code",
   "execution_count": 4,
   "id": "5c87fe5d",
   "metadata": {
    "execution": {
     "iopub.execute_input": "2024-01-26T20:36:48.570915Z",
     "iopub.status.busy": "2024-01-26T20:36:48.569979Z",
     "iopub.status.idle": "2024-01-26T20:36:49.741494Z",
     "shell.execute_reply": "2024-01-26T20:36:49.740626Z",
     "shell.execute_reply.started": "2024-01-26T20:36:48.570875Z"
    }
   },
   "outputs": [],
   "source": [
    "# Load the BERT tokenizer.\n",
    "tokenizer = BertTokenizer.from_pretrained('bert-base-uncased', do_lower_case=True)"
   ]
  },
  {
   "cell_type": "code",
   "execution_count": 50,
   "id": "739a3b9d",
   "metadata": {
    "execution": {
     "iopub.execute_input": "2024-01-26T18:55:06.449595Z",
     "iopub.status.busy": "2024-01-26T18:55:06.449224Z",
     "iopub.status.idle": "2024-01-26T18:55:06.788105Z",
     "shell.execute_reply": "2024-01-26T18:55:06.787282Z",
     "shell.execute_reply.started": "2024-01-26T18:55:06.449566Z"
    }
   },
   "outputs": [],
   "source": [
    "# Tokenize all of the comments and map the tokens to their word IDs.\n",
    "input_ids = []\n",
    "attention_masks = []\n",
    "\n",
    "# Tokenize each comment in the dataset.\n",
    "for comment in train_x['string']:\n",
    "    encoded_dict = tokenizer.encode_plus(\n",
    "                        comment,                      # Comment to encode.\n",
    "                        add_special_tokens = True,    # Add '[CLS]' and '[SEP]'\n",
    "                        max_length = 220,             # Pad & truncate all comments.\n",
    "                        truncation=True,              # Truncate comments longer than max_length\n",
    "                        padding = 'max_length',       # Pad shorter comments.\n",
    "                        return_attention_mask = True, # Construct attention masks.\n",
    "                        return_tensors = 'pt',       # Return pytorch tensors.\n",
    "                   )\n",
    "    \n",
    "    # Add the encoded comment to the list.    \n",
    "    input_ids.append(encoded_dict['input_ids'])\n",
    "    \n",
    "    # And its attention mask (simply differentiates padding from non-padding).\n",
    "    attention_masks.append(encoded_dict['attention_mask'])\n",
    "\n",
    "# Convert the lists into tensors.\n",
    "input_ids = torch.cat(input_ids, dim=0)\n",
    "attention_masks = torch.cat(attention_masks, dim=0)\n",
    "labels = torch.tensor(train_y['y'].values)"
   ]
  },
  {
   "cell_type": "code",
   "execution_count": 51,
   "id": "8aa0b41b",
   "metadata": {
    "execution": {
     "iopub.execute_input": "2024-01-26T18:55:17.082677Z",
     "iopub.status.busy": "2024-01-26T18:55:17.082277Z",
     "iopub.status.idle": "2024-01-26T18:55:17.088844Z",
     "shell.execute_reply": "2024-01-26T18:55:17.087975Z",
     "shell.execute_reply.started": "2024-01-26T18:55:17.082649Z"
    }
   },
   "outputs": [
    {
     "data": {
      "text/plain": [
       "torch.Size([269038])"
      ]
     },
     "execution_count": 51,
     "metadata": {},
     "output_type": "execute_result"
    }
   ],
   "source": [
    "labels.shape"
   ]
  },
  {
   "cell_type": "markdown",
   "id": "31d36a07",
   "metadata": {},
   "source": [
    "**Adding Weights to the train_y DataFrame**"
   ]
  },
  {
   "cell_type": "code",
   "execution_count": 8,
   "id": "35024097",
   "metadata": {
    "execution": {
     "iopub.execute_input": "2024-01-26T14:22:42.317122Z",
     "iopub.status.busy": "2024-01-26T14:22:42.316420Z",
     "iopub.status.idle": "2024-01-26T14:22:42.370236Z",
     "shell.execute_reply": "2024-01-26T14:22:42.369359Z",
     "shell.execute_reply.started": "2024-01-26T14:22:42.317091Z"
    }
   },
   "outputs": [],
   "source": [
    "# Initialize weights with 1.0 for all examples in train_y\n",
    "train_y['weights'] = 1.0\n",
    "\n",
    "# Update the weights for non-toxic comments in underrepresented groups using summary_df\n",
    "for index, row in summary_df.iterrows():\n",
    "    identity = row['Identity']\n",
    "    mask = (train_y[identity] > 0.5) & (train_y['y'] == 0)\n",
    "    train_y.loc[mask, 'weights'] += row['difference_weight']\n",
    "\n",
    "# Special adjustment for black and white groups as you mentioned\n",
    "for identity in ['black', 'white']:\n",
    "    mask = (train_y[identity] > 0.5) & (train_y['y'] == 0)\n",
    "    train_y.loc[mask, 'weights'] *= 2  # This doubles the weight for the non-toxic comments in these groups.\n",
    "\n",
    "# Convert the 'weights' column to a tensor.\n",
    "weights = torch.tensor(train_y['weights'].values).float()"
   ]
  },
  {
   "cell_type": "markdown",
   "id": "dd3ad854",
   "metadata": {},
   "source": [
    "**Data Loaders**"
   ]
  },
  {
   "cell_type": "code",
   "execution_count": 26,
   "id": "c37668df",
   "metadata": {
    "execution": {
     "iopub.execute_input": "2024-01-26T20:53:26.535388Z",
     "iopub.status.busy": "2024-01-26T20:53:26.534501Z",
     "iopub.status.idle": "2024-01-26T20:53:26.540031Z",
     "shell.execute_reply": "2024-01-26T20:53:26.538874Z",
     "shell.execute_reply.started": "2024-01-26T20:53:26.535348Z"
    }
   },
   "outputs": [],
   "source": [
    "batch_size = 16"
   ]
  },
  {
   "cell_type": "code",
   "execution_count": null,
   "id": "0021bc4d",
   "metadata": {},
   "outputs": [],
   "source": [
    "# Create the DataLoader for our training set.\n",
    "train_data = TensorDataset(input_ids, attention_masks, labels, weights)\n",
    "train_sampler = RandomSampler(train_data)\n",
    "train_dataloader = DataLoader(train_data, sampler=train_sampler, batch_size=batch_size)"
   ]
  },
  {
   "cell_type": "markdown",
   "id": "7c03ad47",
   "metadata": {},
   "source": [
    "**Preprocessing - Validation**"
   ]
  },
  {
   "cell_type": "code",
   "execution_count": 27,
   "id": "e6f38cd6",
   "metadata": {
    "execution": {
     "iopub.execute_input": "2024-01-26T20:53:48.443139Z",
     "iopub.status.busy": "2024-01-26T20:53:48.442101Z",
     "iopub.status.idle": "2024-01-26T20:55:53.162522Z",
     "shell.execute_reply": "2024-01-26T20:55:53.161461Z",
     "shell.execute_reply.started": "2024-01-26T20:53:48.443099Z"
    }
   },
   "outputs": [],
   "source": [
    "# Tokenize all of the comments and map the tokens to their word IDs.\n",
    "validation_input_ids = []\n",
    "validation_attention_masks = []\n",
    "\n",
    "for comment in val_x['string']:\n",
    "    encoded_dict = tokenizer.encode_plus(\n",
    "                        comment,\n",
    "                        add_special_tokens = True,\n",
    "                        max_length = 220,\n",
    "                        truncation = True,\n",
    "                        padding = 'max_length',\n",
    "                        return_attention_mask = True,\n",
    "                        return_tensors = 'pt',\n",
    "                   )\n",
    "    \n",
    "    validation_input_ids.append(encoded_dict['input_ids'])\n",
    "    validation_attention_masks.append(encoded_dict['attention_mask'])\n",
    "\n",
    "# Convert the lists into tensors.\n",
    "validation_input_ids = torch.cat(validation_input_ids, dim=0)\n",
    "validation_attention_masks = torch.cat(validation_attention_masks, dim=0)\n",
    "validation_labels = torch.tensor(val_y['y'].values)\n",
    "\n",
    "# Create the DataLoader for our validation set.\n",
    "validation_data = TensorDataset(validation_input_ids, validation_attention_masks, validation_labels)\n",
    "validation_sampler = SequentialSampler(validation_data)\n",
    "validation_dataloader = DataLoader(validation_data, sampler=validation_sampler, batch_size=batch_size)"
   ]
  },
  {
   "cell_type": "markdown",
   "id": "26cd2eb1",
   "metadata": {},
   "source": [
    "**For the Test Set:**"
   ]
  },
  {
   "cell_type": "code",
   "execution_count": 16,
   "id": "fc1fe622",
   "metadata": {
    "execution": {
     "iopub.execute_input": "2024-01-26T20:36:55.128903Z",
     "iopub.status.busy": "2024-01-26T20:36:55.127995Z",
     "iopub.status.idle": "2024-01-26T20:43:03.709083Z",
     "shell.execute_reply": "2024-01-26T20:43:03.708268Z",
     "shell.execute_reply.started": "2024-01-26T20:36:55.128867Z"
    }
   },
   "outputs": [],
   "source": [
    "# Tokenize all of the comments and map the tokens to their word IDs.\n",
    "test_input_ids = []\n",
    "test_attention_masks = []\n",
    "\n",
    "for comment in test_x['string']:\n",
    "    encoded_dict = tokenizer.encode_plus(\n",
    "                        comment,\n",
    "                        add_special_tokens = True,\n",
    "                        max_length = 230,\n",
    "                        truncation = True,\n",
    "                        padding = 'max_length',\n",
    "                        return_attention_mask = True,\n",
    "                        return_tensors = 'pt',\n",
    "                   )\n",
    "    \n",
    "    test_input_ids.append(encoded_dict['input_ids'])\n",
    "    test_attention_masks.append(encoded_dict['attention_mask'])\n",
    "\n",
    "# Convert the lists into tensors.\n",
    "test_input_ids = torch.cat(test_input_ids, dim=0)\n",
    "test_attention_masks = torch.cat(test_attention_masks, dim=0)\n",
    "\n",
    "# Create the DataLoader for our test set.\n",
    "test_data = TensorDataset(test_input_ids, test_attention_masks)\n",
    "test_sampler = SequentialSampler(test_data)\n",
    "test_dataloader = DataLoader(test_data, sampler=test_sampler, batch_size=128)"
   ]
  },
  {
   "cell_type": "markdown",
   "id": "df148cc0",
   "metadata": {},
   "source": [
    "## **Training and Modeling**"
   ]
  },
  {
   "cell_type": "code",
   "execution_count": 5,
   "id": "27bfa992",
   "metadata": {
    "execution": {
     "iopub.execute_input": "2024-01-26T14:32:27.674600Z",
     "iopub.status.busy": "2024-01-26T14:32:27.673880Z",
     "iopub.status.idle": "2024-01-26T14:32:29.984502Z",
     "shell.execute_reply": "2024-01-26T14:32:29.983639Z",
     "shell.execute_reply.started": "2024-01-26T14:32:27.674559Z"
    }
   },
   "outputs": [],
   "source": [
    "# Load BERT model for sequence classification\n",
    "model = BertForSequenceClassification.from_pretrained(\n",
    "    'bert-base-uncased',\n",
    "    num_labels=1,\n",
    "    output_attentions=False,\n",
    "    output_hidden_states=False,\n",
    ")\n",
    "\n",
    "device = torch.device(\"cuda\" if torch.cuda.is_available() else \"cpu\")\n",
    "model.to(device)"
   ]
  },
  {
   "cell_type": "code",
   "execution_count": null,
   "id": "6b3b2a8d",
   "metadata": {},
   "outputs": [],
   "source": [
    "# Loss function without pos_weight for per-example weights\n",
    "epochs = 4  # Number of epochs\n",
    "criterion = torch.nn.BCEWithLogitsLoss(reduction='none')\n",
    "\n",
    "optimizer = AdamW(model.parameters(), lr=2e-5, eps=1e-8)\n",
    "\n",
    "total_steps = len(train_dataloader) * epochs  # Adjust epochs accordingly\n",
    "\n",
    "scheduler = get_linear_schedule_with_warmup(optimizer, \n",
    "                                            num_warmup_steps=0,  # Typically 10% of total training steps\n",
    "                                            num_training_steps=total_steps)"
   ]
  },
  {
   "cell_type": "code",
   "execution_count": 6,
   "id": "92e19892",
   "metadata": {
    "execution": {
     "iopub.execute_input": "2024-01-26T14:33:57.756684Z",
     "iopub.status.busy": "2024-01-26T14:33:57.755757Z",
     "iopub.status.idle": "2024-01-26T18:30:01.183922Z",
     "shell.execute_reply": "2024-01-26T18:30:01.182655Z",
     "shell.execute_reply.started": "2024-01-26T14:33:57.756648Z"
    }
   },
   "outputs": [],
   "source": [
    "from tqdm.auto import tqdm\n",
    "from sklearn.metrics import accuracy_score\n",
    "import numpy as np\n",
    "\n",
    "best_val_loss = float('inf')  # Initialize with a large value for comparison\n",
    "\n",
    "for epoch_i in range(epochs):  # Ensure `epochs` is defined\n",
    "    print(f'\\n======== Epoch {epoch_i + 1} / {epochs} ========')\n",
    "    total_loss = 0\n",
    "    correct_predictions = 0\n",
    "    total_predictions = 0  # Keep track of the total number of predictions to calculate accuracy\n",
    "\n",
    "    model.train()\n",
    "    progress_bar = tqdm(train_dataloader, desc=\"Iteration\", leave=False)\n",
    "\n",
    "    for step, batch in enumerate(progress_bar):\n",
    "        b_input_ids, b_input_mask, b_labels, b_weights = batch\n",
    "        b_input_ids, b_input_mask, b_labels, b_weights = b_input_ids.to(device), b_input_mask.to(device), b_labels.to(device), b_weights.to(device)\n",
    "\n",
    "        model.zero_grad()\n",
    "\n",
    "        outputs = model(b_input_ids, token_type_ids=None, attention_mask=b_input_mask)\n",
    "        logits = outputs.logits[:, 1].unsqueeze(-1)  # Assuming binary classification\n",
    "\n",
    "        loss = criterion(logits, b_labels.float().unsqueeze(-1))\n",
    "        weighted_loss = (loss * b_weights).mean()\n",
    "        total_loss += weighted_loss.item()\n",
    "\n",
    "        # Convert logits to predictions and calculate accuracy\n",
    "        preds = torch.sigmoid(logits).round().detach().cpu().numpy()  # Detach before converting to numpy\n",
    "        labels = b_labels.detach().cpu().numpy()\n",
    "        correct_predictions += (preds == labels).sum()\n",
    "        total_predictions += labels.shape[0]\n",
    "\n",
    "        weighted_loss.backward()\n",
    "        torch.nn.utils.clip_grad_norm_(model.parameters(), 1.0)\n",
    "        optimizer.step()\n",
    "        scheduler.step()\n",
    "\n",
    "        progress_bar.set_description(f\"Epoch {epoch_i + 1} Loss: {weighted_loss.item():.4f}\")\n",
    "        progress_bar.refresh()  # to show immediately the update\n",
    "\n",
    "    avg_train_loss = total_loss / len(train_dataloader)\n",
    "    avg_train_accuracy = correct_predictions / total_predictions  # Calculate average accuracy\n",
    "    print(f\"  Average training loss: {avg_train_loss:.2f}\")\n",
    "    print(f\"  Average training accuracy: {avg_train_accuracy:.4f}\")\n",
    "    \n",
    "    # Save the model if training loss decreases\n",
    "    if avg_train_loss < best_val_loss:\n",
    "        best_val_loss = avg_train_loss\n",
    "        torch.save(model.state_dict(), 'best_model.pth')\n",
    "        print(\"Best model saved!\")"
   ]
  },
  {
   "cell_type": "markdown",
   "id": "6e782f3e",
   "metadata": {},
   "source": [
    "## **Evaluation**"
   ]
  },
  {
   "cell_type": "code",
   "execution_count": 29,
   "id": "c419f3f4",
   "metadata": {
    "execution": {
     "iopub.execute_input": "2024-01-26T21:02:16.391124Z",
     "iopub.status.busy": "2024-01-26T21:02:16.390760Z",
     "iopub.status.idle": "2024-01-26T21:02:17.493717Z",
     "shell.execute_reply": "2024-01-26T21:02:17.492726Z",
     "shell.execute_reply.started": "2024-01-26T21:02:16.391095Z"
    }
   },
   "outputs": [
    {
     "name": "stderr",
     "output_type": "stream",
     "text": [
      "Some weights of BertForSequenceClassification were not initialized from the model checkpoint at bert-base-uncased and are newly initialized: ['classifier.bias', 'classifier.weight']\n",
      "You should probably TRAIN this model on a down-stream task to be able to use it for predictions and inference.\n"
     ]
    },
    {
     "data": {
      "text/plain": [
       "BertForSequenceClassification(\n",
       "  (bert): BertModel(\n",
       "    (embeddings): BertEmbeddings(\n",
       "      (word_embeddings): Embedding(30522, 768, padding_idx=0)\n",
       "      (position_embeddings): Embedding(512, 768)\n",
       "      (token_type_embeddings): Embedding(2, 768)\n",
       "      (LayerNorm): LayerNorm((768,), eps=1e-12, elementwise_affine=True)\n",
       "      (dropout): Dropout(p=0.1, inplace=False)\n",
       "    )\n",
       "    (encoder): BertEncoder(\n",
       "      (layer): ModuleList(\n",
       "        (0-11): 12 x BertLayer(\n",
       "          (attention): BertAttention(\n",
       "            (self): BertSelfAttention(\n",
       "              (query): Linear(in_features=768, out_features=768, bias=True)\n",
       "              (key): Linear(in_features=768, out_features=768, bias=True)\n",
       "              (value): Linear(in_features=768, out_features=768, bias=True)\n",
       "              (dropout): Dropout(p=0.1, inplace=False)\n",
       "            )\n",
       "            (output): BertSelfOutput(\n",
       "              (dense): Linear(in_features=768, out_features=768, bias=True)\n",
       "              (LayerNorm): LayerNorm((768,), eps=1e-12, elementwise_affine=True)\n",
       "              (dropout): Dropout(p=0.1, inplace=False)\n",
       "            )\n",
       "          )\n",
       "          (intermediate): BertIntermediate(\n",
       "            (dense): Linear(in_features=768, out_features=3072, bias=True)\n",
       "            (intermediate_act_fn): GELUActivation()\n",
       "          )\n",
       "          (output): BertOutput(\n",
       "            (dense): Linear(in_features=3072, out_features=768, bias=True)\n",
       "            (LayerNorm): LayerNorm((768,), eps=1e-12, elementwise_affine=True)\n",
       "            (dropout): Dropout(p=0.1, inplace=False)\n",
       "          )\n",
       "        )\n",
       "      )\n",
       "    )\n",
       "    (pooler): BertPooler(\n",
       "      (dense): Linear(in_features=768, out_features=768, bias=True)\n",
       "      (activation): Tanh()\n",
       "    )\n",
       "  )\n",
       "  (dropout): Dropout(p=0.1, inplace=False)\n",
       "  (classifier): Linear(in_features=768, out_features=2, bias=True)\n",
       ")"
      ]
     },
     "execution_count": 29,
     "metadata": {},
     "output_type": "execute_result"
    }
   ],
   "source": [
    "# Load the model\n",
    "model = BertForSequenceClassification.from_pretrained(\n",
    "    'bert-base-uncased',\n",
    "    num_labels=2,\n",
    "    output_attentions=False,\n",
    "    output_hidden_states=False,\n",
    ")\n",
    "\n",
    "# Load the weights from the saved file directly to the GPU\n",
    "model.load_state_dict(torch.load('/kaggle/input/bert-tuned-models/bert tuned epoch 2.pth', map_location=torch.device('cuda')))\n",
    "\n",
    "# Move the model to GPU\n",
    "model.to('cuda')"
   ]
  },
  {
   "cell_type": "code",
   "execution_count": 30,
   "id": "2fa91a1c",
   "metadata": {
    "execution": {
     "iopub.execute_input": "2024-01-26T21:02:45.922945Z",
     "iopub.status.busy": "2024-01-26T21:02:45.922020Z",
     "iopub.status.idle": "2024-01-26T21:02:45.930309Z",
     "shell.execute_reply": "2024-01-26T21:02:45.929295Z",
     "shell.execute_reply.started": "2024-01-26T21:02:45.922911Z"
    }
   },
   "outputs": [],
   "source": [
    "def worst_group_accuracy(prediction, y):\n",
    "    \"\"\"\n",
    "        Compute the worst group accuracy, with the groups being defined by ['male', 'female', 'LGBTQ',\n",
    "        'christian', 'muslim', 'other_religions', 'black', 'white'] for positive and negative toxicity.\n",
    "        arguments:\n",
    "            prediction [pandas.DataFrame]: dataframe with 2 columns (index and pred)\n",
    "            y [pandas.DataFrame]: dataframe containing the metadata\n",
    "        returns:\n",
    "            wga [float]: worst group accuracy\n",
    "    \"\"\"\n",
    "    y.loc[prediction.index, 'pred'] = prediction.pred\n",
    "\n",
    "    categories = ['male', 'female', 'LGBTQ', 'christian', 'muslim', 'other_religions', 'black', 'white']\n",
    "    accuracies = []\n",
    "    for category in categories:\n",
    "        for label in [0, 1]:\n",
    "            group = y.loc[y[category] == label]\n",
    "            group_accuracy = (group['y'] == (group['pred'] > 0.5)).mean()\n",
    "            accuracies.append(group_accuracy)\n",
    "    wga = np.min(accuracies)\n",
    "    return wga, accuracies"
   ]
  },
  {
   "cell_type": "code",
   "execution_count": 31,
   "id": "df92f15e",
   "metadata": {
    "execution": {
     "iopub.execute_input": "2024-01-26T21:02:49.411380Z",
     "iopub.status.busy": "2024-01-26T21:02:49.410954Z",
     "iopub.status.idle": "2024-01-26T21:02:49.422753Z",
     "shell.execute_reply": "2024-01-26T21:02:49.421696Z",
     "shell.execute_reply.started": "2024-01-26T21:02:49.411347Z"
    }
   },
   "outputs": [],
   "source": [
    "from tqdm.auto import tqdm\n",
    "import torch\n",
    "import numpy as np\n",
    "import pandas as pd\n",
    "\n",
    "def evaluate_model(model, dataloader, criterion, device='cuda'):\n",
    "    model.eval()  # Set the model to evaluation mode\n",
    "    total_loss = 0\n",
    "    all_preds = []\n",
    "    all_labels = []\n",
    "    \n",
    "    with torch.no_grad():\n",
    "        for batch in tqdm(dataloader, leave=False):\n",
    "            # Unpack the batch. Since there are no indices, we remove idx from here.\n",
    "            b_input_ids, b_input_mask, b_labels = batch\n",
    "            b_input_ids, b_input_mask, b_labels = b_input_ids.to(device), b_input_mask.to(device), b_labels.to(device)\n",
    "            \n",
    "            # Forward pass. Get logits from the model\n",
    "            outputs = model(b_input_ids, token_type_ids=None, attention_mask=b_input_mask)\n",
    "            logits = outputs.logits\n",
    "            \n",
    "            # Assuming binary classification, we're interested in one column for BCEWithLogitsLoss\n",
    "            # BCEWithLogitsLoss expects the \"logits\" and \"labels\" to be of the same shape\n",
    "            preds = torch.sigmoid(logits)[:, 1]  # Convert logits to probabilities for the positive class\n",
    "            \n",
    "            # Compute loss\n",
    "            loss = criterion(logits[:, 1].squeeze(-1), b_labels.float())  # Adjusted for expected shape\n",
    "            total_loss += loss.item() * b_input_ids.size(0)  # Accumulate the total loss\n",
    "            \n",
    "            # Collect predictions and true labels for later evaluation metrics calculation\n",
    "            all_preds.extend(preds.detach().cpu().numpy())\n",
    "            all_labels.extend(b_labels.detach().cpu().numpy())\n",
    "    \n",
    "    # Calculate average loss\n",
    "    avg_loss = total_loss / len(dataloader.dataset)\n",
    "    \n",
    "    # Convert all predictions and labels into a DataFrame for easier manipulation\n",
    "    predictions_df = pd.DataFrame({'pred': all_preds})\n",
    "    labels_df = pd.DataFrame({'true_labels': all_labels})\n",
    "    \n",
    "    # Here you can further calculate accuracy or other metrics as needed\n",
    "    # For simplicity, let's compute the accuracy here\n",
    "    correct_predictions = np.round(all_preds) == all_labels\n",
    "    accuracy = correct_predictions.mean()\n",
    "\n",
    "    return avg_loss, accuracy\n"
   ]
  },
  {
   "cell_type": "code",
   "execution_count": 7,
   "id": "3fec4908",
   "metadata": {
    "execution": {
     "iopub.execute_input": "2024-01-26T21:02:52.937812Z",
     "iopub.status.busy": "2024-01-26T21:02:52.936723Z",
     "iopub.status.idle": "2024-01-26T21:08:03.826394Z",
     "shell.execute_reply": "2024-01-26T21:08:03.825161Z",
     "shell.execute_reply.started": "2024-01-26T21:02:52.937778Z"
    }
   },
   "outputs": [],
   "source": [
    "criterion = torch.nn.BCEWithLogitsLoss()  # Define the loss function\n",
    "\n",
    "# Evaluate the model\n",
    "val_loss, val_accuracy = evaluate_model(model, validation_dataloader, criterion, device='cuda')\n",
    "\n",
    "# Print the results\n",
    "print(f\"Validation Loss: {val_loss:.4f}\")\n",
    "print(f\"Validation Accuracy: {val_accuracy:.4f}\")\n",
    "\n",
    "# Print accuracies for each group\n",
    "categories = ['male', 'female', 'LGBTQ', 'christian', 'muslim', 'other_religions', 'black', 'white']\n",
    "for i, category in enumerate(categories):\n",
    "    print(f\"{category}_true: {group_accuracies[2*i]:.2f}\")\n",
    "    print(f\"{category}_false: {group_accuracies[2*i + 1]:.2f}\")\n"
   ]
  },
  {
   "cell_type": "markdown",
   "id": "e45394e8",
   "metadata": {},
   "source": [
    "## **Generate Predictions**"
   ]
  },
  {
   "cell_type": "code",
   "execution_count": 8,
   "id": "255e857a",
   "metadata": {
    "execution": {
     "iopub.execute_input": "2024-01-26T21:11:33.318191Z",
     "iopub.status.busy": "2024-01-26T21:11:33.317484Z",
     "iopub.status.idle": "2024-01-26T21:11:33.381378Z",
     "shell.execute_reply": "2024-01-26T21:11:33.380218Z",
     "shell.execute_reply.started": "2024-01-26T21:11:33.318156Z"
    }
   },
   "outputs": [],
   "source": [
    "import pandas as pd\n",
    "from tqdm.auto import tqdm\n",
    "import torch\n",
    "\n",
    "model.eval()  # Set the model to evaluation mode\n",
    "device = torch.device(\"cuda\" if torch.cuda.is_available() else \"cpu\")\n",
    "model.to(device)\n",
    "test_predictions, indices = [], []\n",
    "\n",
    "# Iterate over batches in the test dataloader\n",
    "for batch in tqdm(test_dataloader, leave=False):\n",
    "    b_input_ids, b_input_mask, idx = batch[:3]  # Adjust based on your dataloader structure\n",
    "\n",
    "    # Move inputs to the device\n",
    "    b_input_ids = b_input_ids.to(device)\n",
    "    b_input_mask = b_input_mask.to(device)\n",
    "\n",
    "    with torch.no_grad():\n",
    "        # Get model outputs (logits)\n",
    "        outputs = model(b_input_ids, token_type_ids=None, attention_mask=b_input_mask)\n",
    "        logits = outputs.logits.squeeze()  # Adjust if your model outputs a single logit per input\n",
    "\n",
    "    # Convert logits to probabilities for the positive class\n",
    "    pred = torch.sigmoid(logits)\n",
    "    pred = (pred > 0.5).int()  # Convert to binary predictions\n",
    "    test_predictions.extend(pred.cpu().tolist())\n",
    "    indices.extend(idx.cpu().tolist())\n",
    "\n",
    "# Create a DataFrame for submission\n",
    "pred_df = pd.DataFrame({\n",
    "    'ID': indices,\n",
    "    'pred': test_predictions\n",
    "})\n",
    "\n",
    "# Save the DataFrame to a CSV file for submission\n",
    "pred_df.to_csv('prediction.csv', index=False)\n"
   ]
  },
  {
   "cell_type": "code",
   "execution_count": 43,
   "id": "c9ef2987",
   "metadata": {
    "execution": {
     "iopub.execute_input": "2024-01-26T22:15:43.713581Z",
     "iopub.status.busy": "2024-01-26T22:15:43.712791Z",
     "iopub.status.idle": "2024-01-26T22:31:30.909587Z",
     "shell.execute_reply": "2024-01-26T22:31:30.908710Z",
     "shell.execute_reply.started": "2024-01-26T22:15:43.713545Z"
    }
   },
   "outputs": [
    {
     "data": {
      "application/vnd.jupyter.widget-view+json": {
       "model_id": "",
       "version_major": 2,
       "version_minor": 0
      },
      "text/plain": [
       "  0%|          | 0/1046 [00:00<?, ?it/s]"
      ]
     },
     "metadata": {},
     "output_type": "display_data"
    }
   ],
   "source": [
    "test_predictions = []\n",
    "\n",
    "# Iterate over batches in the test dataloader\n",
    "for batch in tqdm(test_dataloader, leave=False):\n",
    "    b_input_ids, b_input_mask = batch\n",
    "\n",
    "    # Move inputs to the device\n",
    "    b_input_ids = b_input_ids.to(device)\n",
    "    b_input_mask = b_input_mask.to(device)\n",
    "\n",
    "    with torch.no_grad():\n",
    "        # Forward pass to get logits\n",
    "        outputs = model(b_input_ids, token_type_ids=None, attention_mask=b_input_mask)\n",
    "        logits = outputs.logits\n",
    "        \n",
    "    # Use the second logit to get the probability of the positive class\n",
    "    probs = torch.sigmoid(logits[:, 1])\n",
    "    preds = (probs > 0.5).int()  # Convert probabilities to binary predictions\n",
    "    test_predictions.extend(preds.cpu().tolist())\n",
    "\n",
    "# Create DataFrame with predictions\n",
    "pred_df = pd.DataFrame({\n",
    "    'pred': test_predictions\n",
    "})\n",
    "\n",
    "# Save the DataFrame to a CSV file for submission\n",
    "pred_df.to_csv('test_predictions.csv', index=False)"
   ]
  },
  {
   "cell_type": "markdown",
   "id": "dd017092",
   "metadata": {},
   "source": [
    "**Advanced Techniques - Layer-wise Learning Rate Decaying and Freezing Layers**"
   ]
  },
  {
   "cell_type": "code",
   "execution_count": null,
   "id": "03a9f599",
   "metadata": {},
   "outputs": [],
   "source": [
    "# Implement layer-wise learning rate decay\n",
    "def set_layerwise_lr(model, base_lr, decay_factor):\n",
    "    param_optimizer = list(model.named_parameters())\n",
    "    optimizer_grouped_parameters = [\n",
    "        {'params': [p for n, p in param_optimizer if not any(nd in n for nd in ['LayerNorm', 'adapter'])], 'lr': base_lr},\n",
    "        {'params': [p for n, p in param_optimizer if any(nd in n for nd in ['LayerNorm', 'adapter'])], 'lr': base_lr * decay_factor}\n",
    "    ]\n",
    "    return optimizer_grouped_parameters\n",
    "\n",
    "# Set up a model with layer-wise learning rate decay\n",
    "model_layerwise_lr = BertForSequenceClassification.from_pretrained('bert-base-uncased', num_labels=1).cuda()\n",
    "\n",
    "# Set the base learning rate and decay factor\n",
    "base_lr = 2e-5\n",
    "decay_factor = 0.1\n",
    "\n",
    "# Set up optimizer and scheduler with layer-wise LR decay\n",
    "optimizer_layerwise_lr = AdamW(set_layerwise_lr(model_layerwise_lr, base_lr, decay_factor), eps=1e-8)\n",
    "scheduler_layerwise_lr = get_linear_schedule_with_warmup(optimizer_layerwise_lr, num_warmup_steps=0, num_training_steps=total_steps)\n",
    "\n",
    "# Fine-tune with layer-wise LR decay\n",
    "fine_tune_with_learning_rate(model_layerwise_lr, oversampled_train_dataloader, dataloader_val, optimizer_layerwise_lr, scheduler_layerwise_lr, base_lr)"
   ]
  },
  {
   "cell_type": "markdown",
   "id": "4d464038",
   "metadata": {},
   "source": [
    "**Additionally, freezing layers is explored:**"
   ]
  },
  {
   "cell_type": "code",
   "execution_count": null,
   "id": "372662d5",
   "metadata": {},
   "outputs": [],
   "source": [
    "# Freeze initial layers\n",
    "def freeze_layers(model, num_layers_to_freeze):\n",
    "    for name, param in model.named_parameters():\n",
    "        if any(nd in name for nd in ['LayerNorm', 'adapter']):\n",
    "            param.requires_grad = True\n",
    "        else:\n",
    "            param.requires_grad = False\n",
    "\n",
    "# Set up a model with frozen layers\n",
    "model_frozen_layers = BertForSequenceClassification.from_pretrained('bert-base-uncased', num_labels=1).cuda()\n",
    "\n",
    "# Freeze the initial layers\n",
    "num_layers_to_freeze = 6  # Adjust based on your model architecture\n",
    "freeze_layers(model_frozen_layers, num_layers_to_freeze)\n",
    "\n",
    "# Set up optimizer and scheduler with frozen layers\n",
    "optimizer_frozen_layers = AdamW(model_frozen_layers.parameters(), lr=2e-5, eps=1e-8)\n",
    "scheduler_frozen_layers = get_linear_schedule_with_warmup(optimizer_frozen_layers, num_warmup_steps=0, num_training_steps=total_steps)\n",
    "\n",
    "# Fine-tune with frozen layers\n",
    "fine_tune_with_learning_rate(model_frozen_layers, oversampled_train_dataloader, dataloader_val, optimizer_frozen_layers, scheduler_frozen_layers, learning_rate)\n"
   ]
  },
  {
   "cell_type": "markdown",
   "id": "122eaad1",
   "metadata": {},
   "source": [
    "**Adding Custom Layers**"
   ]
  },
  {
   "cell_type": "code",
   "execution_count": null,
   "id": "2db50488",
   "metadata": {},
   "outputs": [],
   "source": [
    "# Add custom layers on top of BERT\n",
    "class CustomBERTModel(BertForSequenceClassification):\n",
    "    def __init__(self, config, num_labels, hidden_size=768, num_custom_layers=1):\n",
    "        super(CustomBERTModel, self).__init__(config)\n",
    "        self.bert = BertModel(config)\n",
    "        self.custom_layers = torch.nn.ModuleList([torch.nn.Linear(hidden_size, hidden_size) for _ in range(num_custom_layers)])\n",
    "        self.dropout = torch.nn.Dropout(config.hidden_dropout_prob)\n",
    "        self.classifier = torch.nn.Linear(hidden_size, num_labels)\n",
    "\n",
    "# Set up a model with custom layers\n",
    "num_custom_layers = 1  # Adjust based on your requirements\n",
    "model_custom_layers = CustomBERTModel.from_pretrained('bert-base-uncased', num_labels=1, num_custom_layers=num_custom_layers).cuda()\n",
    "\n",
    "# Set up optimizer and scheduler with custom layers\n",
    "optimizer_custom_layers = AdamW(model_custom_layers.parameters(), lr=2e-5, eps=1e-8)\n",
    "scheduler_custom_layers = get_linear_schedule_with_warmup(optimizer_custom_layers, num_warmup_steps=0, num_training_steps=total_steps)\n",
    "\n",
    "# Fine-tune with custom layers\n",
    "fine_tune_with_learning_rate(model_custom_layers, oversampled_train_dataloader, dataloader_val, optimizer_custom_layers, scheduler_custom_layers, learning_rate)"
   ]
  },
  {
   "cell_type": "markdown",
   "id": "dc31d6db",
   "metadata": {},
   "source": [
    "**Final Predictions on Test Dataset**"
   ]
  },
  {
   "cell_type": "code",
   "execution_count": null,
   "id": "b9da4972",
   "metadata": {},
   "outputs": [],
   "source": [
    "# Load the fine-tuned model\n",
    "model = BertForSequenceClassification.from_pretrained(\n",
    "    'bert-base-uncased',\n",
    "    num_labels=2,  # Adjust based on your task\n",
    "    output_attentions=False,\n",
    "    output_hidden_states=False,\n",
    ")\n",
    "\n",
    "# Load the weights from the saved file directly to the GPU\n",
    "model.load_state_dict(torch.load('fine_tuned_model.pth', map_location=torch.device('cuda')))\n",
    "\n",
    "# Move the model to GPU\n",
    "model.to('cuda')\n",
    "\n",
    "model.eval()  # Set the model to evaluation mode\n",
    "test_predictions, indices = [], []\n",
    "\n",
    "# Iterate over batches in the test dataloader\n",
    "for batch in tqdm(dataloader_test, leave=False):\n",
    "    b_input_ids, b_input_mask, idx = batch\n",
    "\n",
    "    # Move inputs to the device (GPU or CPU)\n",
    "    b_input_ids = b_input_ids.to('cuda')\n",
    "    b_input_mask = b_input_mask.to('cuda')\n",
    "\n",
    "    with torch.no_grad():\n",
    "        # Get model outputs (logits)\n",
    "        outputs = model(b_input_ids, token_type_ids=None, attention_mask=b_input_mask)\n",
    "        logits = outputs.logits\n",
    "\n",
    "    # Convert logits to probabilities and then to binary predictions\n",
    "    # Assuming positive class is the second column (index 1)\n",
    "    pred = torch.sigmoid(logits)[:, 1]  # Get probabilities for the positive class\n",
    "    pred = (pred > 0.5).int()  # Convert to 0 or 1 based on threshold\n",
    "    test_predictions.extend(pred.cpu().tolist())\n",
    "    indices.extend(idx.cpu().tolist())\n",
    "\n",
    "# Create a DataFrame with indices and predictions\n",
    "test_results = pd.DataFrame({'index': indices, 'prediction': test_predictions})\n",
    "\n",
    "# Save the predictions to a CSV file\n",
    "test_results.to_csv('test_predictions_BERT_fine_tuned.csv', index=False)\n"
   ]
  },
  {
   "cell_type": "markdown",
   "id": "8dd9f8aa",
   "metadata": {},
   "source": [
    "## **Fine Tuned BERT with Strict Threshold**\n",
    "\n",
    "**We can fine tune the model by making it stricter in classifying comments as toxic by increasing threshold to 0.6** "
   ]
  },
  {
   "cell_type": "code",
   "execution_count": null,
   "id": "ba00b2a7",
   "metadata": {},
   "outputs": [],
   "source": [
    "# Load the fine-tuned model\n",
    "model = BertForSequenceClassification.from_pretrained(\n",
    "    'bert-base-uncased',\n",
    "    num_labels=2,  # Adjust based on your task\n",
    "    output_attentions=False,\n",
    "    output_hidden_states=False,\n",
    ")\n",
    "\n",
    "# Load the weights from the saved file directly to the GPU\n",
    "model.load_state_dict(torch.load('fine_tuned_model.pth', map_location=torch.device('cuda')))\n",
    "\n",
    "# Move the model to GPU\n",
    "model.to('cuda')\n",
    "\n",
    "model.eval()  # Set the model to evaluation mode\n",
    "test_predictions, indices = [], []\n",
    "\n",
    "# Iterate over batches in the test dataloader\n",
    "for batch in tqdm(dataloader_test, leave=False):\n",
    "    b_input_ids, b_input_mask, idx = batch\n",
    "\n",
    "    # Move inputs to the device (GPU or CPU)\n",
    "    b_input_ids = b_input_ids.to('cuda')\n",
    "    b_input_mask = b_input_mask.to('cuda')\n",
    "\n",
    "    with torch.no_grad():\n",
    "        # Get model outputs (logits)\n",
    "        outputs = model(b_input_ids, token_type_ids=None, attention_mask=b_input_mask)\n",
    "        logits = outputs.logits\n",
    "\n",
    "    # Convert logits to probabilities and then to binary predictions\n",
    "    # Assuming positive class is the second column (index 1)\n",
    "    pred = torch.sigmoid(logits)[:, 1]  # Get probabilities for the positive class\n",
    "    pred = (pred > 0.6).int()  # Convert to 0 or 1 based on threshold\n",
    "    test_predictions.extend(pred.cpu().tolist())\n",
    "    indices.extend(idx.cpu().tolist())\n",
    "\n",
    "# Create a DataFrame with indices and predictions\n",
    "test_results = pd.DataFrame({'index': indices, 'prediction': test_predictions})\n",
    "\n",
    "# Save the predictions to a CSV file\n",
    "test_results.to_csv('test_predictions_BERT_fine_tuned_strict.csv', index=False)\n"
   ]
  },
  {
   "cell_type": "markdown",
   "id": "cfcc43e3",
   "metadata": {},
   "source": [
    "## **Ensembling the best 3 performing models**"
   ]
  },
  {
   "cell_type": "code",
   "execution_count": null,
   "id": "5f15829e",
   "metadata": {},
   "outputs": [],
   "source": [
    "#Loading the predictions for the best performing model\n",
    "pred_bert_fine=pd.read_csv('/kaggle/input/ensemble/test_predictions_BERT_fine_tuned.csv.csv')\n",
    "pred_bert_basic=pd.read_csv('/kaggle/input/ensemble/prediction_bert.csv')\n",
    "pred_bert_stricter=pd.read_csv('/kaggle/working/test_predictions_BERT_fine_tuned_strict.csv')"
   ]
  },
  {
   "cell_type": "code",
   "execution_count": null,
   "id": "c120b30d",
   "metadata": {},
   "outputs": [],
   "source": [
    "#Assigning weights based on their WGA in the public dataset\n",
    "weights_pred={\n",
    "             'pred_bert_fine':2,\n",
    "             'pred_bert':1,\n",
    "              'pred_bert_stricter': 3\n",
    "             }\n",
    "\n",
    "#Calculating their weighted sum\n",
    "weighted_sum = (\n",
    "    pred_bert_fine['pred'] * weights_pred['pred_bert_fine'] +\n",
    "    pred_bert['pred'] * weights_pred['pred_bert']+\n",
    "    pred_bert_stricter['pred'] * weights_pred['pred_bert_stricter']\n",
    ")\n"
   ]
  },
  {
   "cell_type": "code",
   "execution_count": null,
   "id": "774c5036",
   "metadata": {},
   "outputs": [],
   "source": [
    "#Getting the threshold and adding epsilon =1 for stricter classification \n",
    "threshold = (sum(weights_pred.values()) // 2)+1\n",
    "print(threshold)\n",
    "\n",
    "# Final prediction is 1 if the weighted sum is greater than the threshold, else 0\n",
    "final_prediction = (weighted_sum > threshold).astype(int)\n",
    "\n",
    "#Creating final csv for ensemble predictions\n",
    "final_df= pd.DataFrame({\n",
    "    'ID': pred_logit['ID'],\n",
    "    'pred': final_prediction\n",
    "})\n",
    "final_df.to_csv('/kaggle/working/prediction_ensemble_BERT.csv', index=False)"
   ]
  }
 ],
 "metadata": {
  "accelerator": "GPU",
  "colab": {
   "gpuType": "T4",
   "provenance": []
  },
  "kaggle": {
   "accelerator": "none",
   "dataSources": [
    {
     "datasetId": 4311520,
     "sourceId": 7412307,
     "sourceType": "datasetVersion"
    },
    {
     "datasetId": 4316656,
     "sourceId": 7419702,
     "sourceType": "datasetVersion"
    },
    {
     "datasetId": 4332696,
     "sourceId": 7443693,
     "sourceType": "datasetVersion"
    },
    {
     "datasetId": 4344616,
     "sourceId": 7464143,
     "sourceType": "datasetVersion"
    }
   ],
   "dockerImageVersionId": 30635,
   "isGpuEnabled": false,
   "isInternetEnabled": true,
   "language": "python",
   "sourceType": "notebook"
  },
  "kernelspec": {
   "display_name": "Python 3",
   "language": "python",
   "name": "python3"
  },
  "language_info": {
   "codemirror_mode": {
    "name": "ipython",
    "version": 3
   },
   "file_extension": ".py",
   "mimetype": "text/x-python",
   "name": "python",
   "nbconvert_exporter": "python",
   "pygments_lexer": "ipython3",
   "version": "3.12.0"
  },
  "widgets": {
   "application/vnd.jupyter.widget-state+json": {
    "0475bdcc779a441d93099e0f838d2914": {
     "model_module": "@jupyter-widgets/controls",
     "model_module_version": "1.5.0",
     "model_name": "HTMLModel",
     "state": {
      "_dom_classes": [],
      "_model_module": "@jupyter-widgets/controls",
      "_model_module_version": "1.5.0",
      "_model_name": "HTMLModel",
      "_view_count": null,
      "_view_module": "@jupyter-widgets/controls",
      "_view_module_version": "1.5.0",
      "_view_name": "HTMLView",
      "description": "",
      "description_tooltip": null,
      "layout": "IPY_MODEL_c32aff6d809e476fa9e29cc7124906f1",
      "placeholder": "​",
      "style": "IPY_MODEL_efb9670258324c728a90406df3abb8e5",
      "value": "model.safetensors: 100%"
     }
    },
    "592138a9b37f4ddbbd28959b2504b93a": {
     "model_module": "@jupyter-widgets/controls",
     "model_module_version": "1.5.0",
     "model_name": "DescriptionStyleModel",
     "state": {
      "_model_module": "@jupyter-widgets/controls",
      "_model_module_version": "1.5.0",
      "_model_name": "DescriptionStyleModel",
      "_view_count": null,
      "_view_module": "@jupyter-widgets/base",
      "_view_module_version": "1.2.0",
      "_view_name": "StyleView",
      "description_width": ""
     }
    },
    "59716411bd5b4ab297e3085625131781": {
     "model_module": "@jupyter-widgets/controls",
     "model_module_version": "1.5.0",
     "model_name": "HBoxModel",
     "state": {
      "_dom_classes": [],
      "_model_module": "@jupyter-widgets/controls",
      "_model_module_version": "1.5.0",
      "_model_name": "HBoxModel",
      "_view_count": null,
      "_view_module": "@jupyter-widgets/controls",
      "_view_module_version": "1.5.0",
      "_view_name": "HBoxView",
      "box_style": "",
      "children": [
       "IPY_MODEL_0475bdcc779a441d93099e0f838d2914",
       "IPY_MODEL_fb1710d0707542928fd7fb6c30979762",
       "IPY_MODEL_da0dda93f2854128a546c21399d43cff"
      ],
      "layout": "IPY_MODEL_6358ef04522b47efa8d0aeeefd4b154a"
     }
    },
    "6358ef04522b47efa8d0aeeefd4b154a": {
     "model_module": "@jupyter-widgets/base",
     "model_module_version": "1.2.0",
     "model_name": "LayoutModel",
     "state": {
      "_model_module": "@jupyter-widgets/base",
      "_model_module_version": "1.2.0",
      "_model_name": "LayoutModel",
      "_view_count": null,
      "_view_module": "@jupyter-widgets/base",
      "_view_module_version": "1.2.0",
      "_view_name": "LayoutView",
      "align_content": null,
      "align_items": null,
      "align_self": null,
      "border": null,
      "bottom": null,
      "display": null,
      "flex": null,
      "flex_flow": null,
      "grid_area": null,
      "grid_auto_columns": null,
      "grid_auto_flow": null,
      "grid_auto_rows": null,
      "grid_column": null,
      "grid_gap": null,
      "grid_row": null,
      "grid_template_areas": null,
      "grid_template_columns": null,
      "grid_template_rows": null,
      "height": null,
      "justify_content": null,
      "justify_items": null,
      "left": null,
      "margin": null,
      "max_height": null,
      "max_width": null,
      "min_height": null,
      "min_width": null,
      "object_fit": null,
      "object_position": null,
      "order": null,
      "overflow": null,
      "overflow_x": null,
      "overflow_y": null,
      "padding": null,
      "right": null,
      "top": null,
      "visibility": null,
      "width": null
     }
    },
    "aeff62274dd847abb0f2fc9ef4685e63": {
     "model_module": "@jupyter-widgets/base",
     "model_module_version": "1.2.0",
     "model_name": "LayoutModel",
     "state": {
      "_model_module": "@jupyter-widgets/base",
      "_model_module_version": "1.2.0",
      "_model_name": "LayoutModel",
      "_view_count": null,
      "_view_module": "@jupyter-widgets/base",
      "_view_module_version": "1.2.0",
      "_view_name": "LayoutView",
      "align_content": null,
      "align_items": null,
      "align_self": null,
      "border": null,
      "bottom": null,
      "display": null,
      "flex": null,
      "flex_flow": null,
      "grid_area": null,
      "grid_auto_columns": null,
      "grid_auto_flow": null,
      "grid_auto_rows": null,
      "grid_column": null,
      "grid_gap": null,
      "grid_row": null,
      "grid_template_areas": null,
      "grid_template_columns": null,
      "grid_template_rows": null,
      "height": null,
      "justify_content": null,
      "justify_items": null,
      "left": null,
      "margin": null,
      "max_height": null,
      "max_width": null,
      "min_height": null,
      "min_width": null,
      "object_fit": null,
      "object_position": null,
      "order": null,
      "overflow": null,
      "overflow_x": null,
      "overflow_y": null,
      "padding": null,
      "right": null,
      "top": null,
      "visibility": null,
      "width": null
     }
    },
    "bc3d7de9768f45a390728f69d4729fbb": {
     "model_module": "@jupyter-widgets/controls",
     "model_module_version": "1.5.0",
     "model_name": "ProgressStyleModel",
     "state": {
      "_model_module": "@jupyter-widgets/controls",
      "_model_module_version": "1.5.0",
      "_model_name": "ProgressStyleModel",
      "_view_count": null,
      "_view_module": "@jupyter-widgets/base",
      "_view_module_version": "1.2.0",
      "_view_name": "StyleView",
      "bar_color": null,
      "description_width": ""
     }
    },
    "c32aff6d809e476fa9e29cc7124906f1": {
     "model_module": "@jupyter-widgets/base",
     "model_module_version": "1.2.0",
     "model_name": "LayoutModel",
     "state": {
      "_model_module": "@jupyter-widgets/base",
      "_model_module_version": "1.2.0",
      "_model_name": "LayoutModel",
      "_view_count": null,
      "_view_module": "@jupyter-widgets/base",
      "_view_module_version": "1.2.0",
      "_view_name": "LayoutView",
      "align_content": null,
      "align_items": null,
      "align_self": null,
      "border": null,
      "bottom": null,
      "display": null,
      "flex": null,
      "flex_flow": null,
      "grid_area": null,
      "grid_auto_columns": null,
      "grid_auto_flow": null,
      "grid_auto_rows": null,
      "grid_column": null,
      "grid_gap": null,
      "grid_row": null,
      "grid_template_areas": null,
      "grid_template_columns": null,
      "grid_template_rows": null,
      "height": null,
      "justify_content": null,
      "justify_items": null,
      "left": null,
      "margin": null,
      "max_height": null,
      "max_width": null,
      "min_height": null,
      "min_width": null,
      "object_fit": null,
      "object_position": null,
      "order": null,
      "overflow": null,
      "overflow_x": null,
      "overflow_y": null,
      "padding": null,
      "right": null,
      "top": null,
      "visibility": null,
      "width": null
     }
    },
    "da0dda93f2854128a546c21399d43cff": {
     "model_module": "@jupyter-widgets/controls",
     "model_module_version": "1.5.0",
     "model_name": "HTMLModel",
     "state": {
      "_dom_classes": [],
      "_model_module": "@jupyter-widgets/controls",
      "_model_module_version": "1.5.0",
      "_model_name": "HTMLModel",
      "_view_count": null,
      "_view_module": "@jupyter-widgets/controls",
      "_view_module_version": "1.5.0",
      "_view_name": "HTMLView",
      "description": "",
      "description_tooltip": null,
      "layout": "IPY_MODEL_fa28e01a00fa4d088205fe8e14cb6220",
      "placeholder": "​",
      "style": "IPY_MODEL_592138a9b37f4ddbbd28959b2504b93a",
      "value": " 440M/440M [00:05&lt;00:00, 91.4MB/s]"
     }
    },
    "efb9670258324c728a90406df3abb8e5": {
     "model_module": "@jupyter-widgets/controls",
     "model_module_version": "1.5.0",
     "model_name": "DescriptionStyleModel",
     "state": {
      "_model_module": "@jupyter-widgets/controls",
      "_model_module_version": "1.5.0",
      "_model_name": "DescriptionStyleModel",
      "_view_count": null,
      "_view_module": "@jupyter-widgets/base",
      "_view_module_version": "1.2.0",
      "_view_name": "StyleView",
      "description_width": ""
     }
    },
    "fa28e01a00fa4d088205fe8e14cb6220": {
     "model_module": "@jupyter-widgets/base",
     "model_module_version": "1.2.0",
     "model_name": "LayoutModel",
     "state": {
      "_model_module": "@jupyter-widgets/base",
      "_model_module_version": "1.2.0",
      "_model_name": "LayoutModel",
      "_view_count": null,
      "_view_module": "@jupyter-widgets/base",
      "_view_module_version": "1.2.0",
      "_view_name": "LayoutView",
      "align_content": null,
      "align_items": null,
      "align_self": null,
      "border": null,
      "bottom": null,
      "display": null,
      "flex": null,
      "flex_flow": null,
      "grid_area": null,
      "grid_auto_columns": null,
      "grid_auto_flow": null,
      "grid_auto_rows": null,
      "grid_column": null,
      "grid_gap": null,
      "grid_row": null,
      "grid_template_areas": null,
      "grid_template_columns": null,
      "grid_template_rows": null,
      "height": null,
      "justify_content": null,
      "justify_items": null,
      "left": null,
      "margin": null,
      "max_height": null,
      "max_width": null,
      "min_height": null,
      "min_width": null,
      "object_fit": null,
      "object_position": null,
      "order": null,
      "overflow": null,
      "overflow_x": null,
      "overflow_y": null,
      "padding": null,
      "right": null,
      "top": null,
      "visibility": null,
      "width": null
     }
    },
    "fb1710d0707542928fd7fb6c30979762": {
     "model_module": "@jupyter-widgets/controls",
     "model_module_version": "1.5.0",
     "model_name": "FloatProgressModel",
     "state": {
      "_dom_classes": [],
      "_model_module": "@jupyter-widgets/controls",
      "_model_module_version": "1.5.0",
      "_model_name": "FloatProgressModel",
      "_view_count": null,
      "_view_module": "@jupyter-widgets/controls",
      "_view_module_version": "1.5.0",
      "_view_name": "ProgressView",
      "bar_style": "success",
      "description": "",
      "description_tooltip": null,
      "layout": "IPY_MODEL_aeff62274dd847abb0f2fc9ef4685e63",
      "max": 440449768,
      "min": 0,
      "orientation": "horizontal",
      "style": "IPY_MODEL_bc3d7de9768f45a390728f69d4729fbb",
      "value": 440449768
     }
    }
   }
  }
 },
 "nbformat": 4,
 "nbformat_minor": 5
}
